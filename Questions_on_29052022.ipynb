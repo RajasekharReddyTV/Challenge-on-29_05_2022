{
 "cells": [
  {
   "cell_type": "markdown",
   "id": "34e4c269",
   "metadata": {},
   "source": [
    "q1 : Try to print this by using while loop \n",
    "* \n",
    "* * \n",
    "* * * \n",
    "* * * * \n",
    "* * * * * \n",
    "* * * * * * \n",
    "* * * * * * * \n",
    "* * * * * * * * \n",
    "* * * * * * * * * "
   ]
  },
  {
   "cell_type": "code",
   "execution_count": 1,
   "id": "63cc7cb2",
   "metadata": {},
   "outputs": [
    {
     "name": "stdout",
     "output_type": "stream",
     "text": [
      "*  \n",
      "\n",
      "* *  \n",
      "\n",
      "* * *  \n",
      "\n",
      "* * * *  \n",
      "\n",
      "* * * * *  \n",
      "\n",
      "* * * * * *  \n",
      "\n",
      "* * * * * * *  \n",
      "\n",
      "* * * * * * * *  \n",
      "\n",
      "* * * * * * * * *  \n",
      "\n"
     ]
    }
   ],
   "source": [
    "a = 1\n",
    "\n",
    "while a<=9:\n",
    "    print ('* '*a, end = ' ')\n",
    "    a+=1\n",
    "    print('\\n')\n",
    "    "
   ]
  },
  {
   "cell_type": "markdown",
   "id": "b30f4181",
   "metadata": {},
   "source": [
    "q2 : try to print below by using while loop : \n",
    "        \n",
    "A\n",
    "\n",
    "B H \n",
    "\n",
    "C I N\n",
    "\n",
    "D J o S\n",
    "\n",
    "E K p T W\n",
    "\n",
    "F L Q U X z\n",
    "\n",
    "G M R V Y "
   ]
  },
  {
   "cell_type": "code",
   "execution_count": 2,
   "id": "2cbf19c9",
   "metadata": {},
   "outputs": [
    {
     "name": "stdout",
     "output_type": "stream",
     "text": [
      "A \n",
      "\n",
      "B C \n",
      "\n",
      "D E F \n",
      "\n",
      "G H I J \n",
      "\n",
      "K L M N O \n",
      "\n",
      "P Q R S T U \n",
      "\n",
      "V W X Y Z \n",
      "\n"
     ]
    }
   ],
   "source": [
    "n = 0\n",
    "b = 0\n",
    "c = 0\n",
    "ASC_V = 65\n",
    "while b<7  :\n",
    "    c= c+1\n",
    "    n = 0\n",
    "    while n<c and ASC_V<=90 :\n",
    "        CH = chr(ASC_V)\n",
    "        print(CH, end = ' ')\n",
    "        ASC_V = ASC_V+1\n",
    "        n+=1\n",
    "    print('\\n')\n",
    "    b+=1\n",
    "    "
   ]
  },
  {
   "cell_type": "code",
   "execution_count": 3,
   "id": "39e70e6f",
   "metadata": {},
   "outputs": [
    {
     "name": "stdout",
     "output_type": "stream",
     "text": [
      "A \n",
      "\n",
      "B H \n",
      "\n",
      "C I N \n",
      "\n",
      "D J O S \n",
      "\n",
      "E K P T W \n",
      "\n",
      "F L Q U X Z \n",
      "\n",
      "G M R V Y \n",
      "\n"
     ]
    }
   ],
   "source": [
    "m = 7\n",
    "n = 0\n",
    "b = 0\n",
    "c = 0\n",
    "ASC_V = 65\n",
    "while b<m  :\n",
    "    c= c+1\n",
    "    n = 0\n",
    "    ASC_V = 65\n",
    "    ASC_V = ASC_V + b\n",
    "    while n<c and ASC_V<=90 :\n",
    "        CH = chr(ASC_V)\n",
    "        print(CH, end = ' ')\n",
    "        n+=1\n",
    "        ASC_V = ASC_V+m-n\n",
    "        \n",
    "    print('\\n')\n",
    "    b+=1"
   ]
  },
  {
   "cell_type": "markdown",
   "id": "fde3c2e7",
   "metadata": {},
   "source": [
    "q3 : Try to print all the number divisible by 3 in between a range of 40 - 400"
   ]
  },
  {
   "cell_type": "code",
   "execution_count": 4,
   "id": "0cf7d3e8",
   "metadata": {},
   "outputs": [
    {
     "name": "stdout",
     "output_type": "stream",
     "text": [
      "[42, 45, 48, 51, 54, 57, 60, 63, 66, 69, 72, 75, 78, 81, 84, 87, 90, 93, 96, 99, 102, 105, 108, 111, 114, 117, 120, 123, 126, 129, 132, 135, 138, 141, 144, 147, 150, 153, 156, 159, 162, 165, 168, 171, 174, 177, 180, 183, 186, 189, 192, 195, 198, 201, 204, 207, 210, 213, 216, 219, 222, 225, 228, 231, 234, 237, 240, 243, 246, 249, 252, 255, 258, 261, 264, 267, 270, 273, 276, 279, 282, 285, 288, 291, 294, 297, 300, 303, 306, 309, 312, 315, 318, 321, 324, 327, 330, 333, 336, 339, 342, 345, 348, 351, 354, 357, 360, 363, 366, 369, 372, 375, 378, 381, 384, 387, 390, 393, 396, 399]\n"
     ]
    }
   ],
   "source": [
    "A = 40\n",
    "l1 = []\n",
    "while A>=40 and A<=400:\n",
    "    if A%3==0:\n",
    "        l1.append(A)\n",
    "        \n",
    "    A = A+1\n",
    "print(l1)"
   ]
  },
  {
   "cell_type": "markdown",
   "id": "a14c049a",
   "metadata": {},
   "source": [
    "q4 : Try to filter out all the vowels form below text by using while loop : \n",
    " \"\"\"Python is a high-level, interpreted, general-purpose programming language. Its design philosophy emphasizes code readability with the use of significant indentation.[32]\n",
    "\n",
    "Python is dynamically-typed and garbage-collected. It supports multiple programming paradigms, including structured (particularly procedural), object-oriented and functional programming. It is often described as a \"batteries included\" language due to its comprehensive standard library.[33][34]\n",
    "\n",
    "Guido van Rossum began working on Python in the late 1980s as a successor to the ABC programming language and first released it in 1991 as Python 0.9.0.[35] Python 2.0 was released in 2000 and introduced new features such as list comprehensions, cycle-detecting garbage collection, reference counting, and Unicode support. Python 3.0, released in 2008, was a major revision that is not completely backward-compatible with earlier versions. Python 2 was discontinued with version 2.7.18 in 2020.[36]\n",
    "\n",
    "Python consistently ranks as one of the most popular programming languagesc\"\"\" "
   ]
  },
  {
   "cell_type": "code",
   "execution_count": 5,
   "id": "ed942e1c",
   "metadata": {},
   "outputs": [],
   "source": [
    "S =\"\"\"thon is a high-level, interpreted, general-purpose programming language. Its design philosophy emphasizes code readability with the use of significant indentation.[32]\n",
    "\n",
    "Python is dynamically-typed and garbage-collected. It supports multiple programming paradigms, including structured (particularly procedural), object-oriented and functional programming. It is often described as a \"batteries included\" language due to its comprehensive standard library.[33][34]\n",
    "\n",
    "Guido van Rossum began working on Python in the late 1980s as a successor to the ABC programming language and first released it in 1991 as Python 0.9.0.[35] Python 2.0 was released in 2000 and introduced new features such as list comprehensions, cycle-detecting garbage collection, reference counting, and Unicode support. Python 3.0, released in 2008, was a major revision that is not completely backward-compatible with earlier versions. Python 2 was discontinued with version 2.7.18 in 2020.[36]\n",
    "\n",
    "Python consistently ranks as one of the most popular programming languagesc\"\"\""
   ]
  },
  {
   "cell_type": "code",
   "execution_count": 6,
   "id": "0f37c68f",
   "metadata": {},
   "outputs": [
    {
     "name": "stdout",
     "output_type": "stream",
     "text": [
      "['o', 'i', 'a', 'i', 'e', 'e', 'i', 'e', 'e', 'e', 'e', 'e', 'a', 'u', 'o', 'e', 'o', 'a', 'i', 'a', 'u', 'a', 'e', 'i', 'e', 'i', 'i', 'o', 'o', 'e', 'a', 'i', 'e', 'o', 'e', 'e', 'a', 'a', 'i', 'i', 'i', 'e', 'u', 'e', 'o', 'i', 'i', 'i', 'a', 'i', 'e', 'a', 'i', 'o', 'o', 'i', 'a', 'i', 'a', 'e', 'a', 'a', 'a', 'e', 'o', 'e', 'e', 'i', 'u', 'o', 'u', 'i', 'e', 'o', 'a', 'i', 'a', 'a', 'i', 'i', 'u', 'i', 'u', 'u', 'e', 'a', 'i', 'u', 'a', 'o', 'e', 'u', 'a', 'o', 'e', 'o', 'i', 'e', 'e', 'a', 'u', 'i', 'o', 'a', 'o', 'a', 'i', 'i', 'i', 'o', 'e', 'e', 'i', 'e', 'a', 'a', 'a', 'e', 'i', 'e', 'i', 'u', 'e', 'a', 'u', 'a', 'e', 'u', 'e', 'o', 'i', 'o', 'e', 'e', 'i', 'e', 'a', 'a', 'i', 'a', 'u', 'i', 'o', 'a', 'o', 'u', 'e', 'a', 'o', 'i', 'o', 'o', 'i', 'e', 'a', 'e', 'a', 'a', 'u', 'e', 'o', 'o', 'e', 'a', 'o', 'a', 'i', 'a', 'u', 'a', 'e', 'a', 'i', 'e', 'e', 'a', 'e', 'i', 'i', 'a', 'o', 'o', 'a', 'e', 'e', 'a', 'e', 'i', 'a', 'i', 'o', 'u', 'e', 'e', 'e', 'a', 'u', 'e', 'u', 'a', 'i', 'o', 'e', 'e', 'i', 'o', 'e', 'e', 'e', 'i', 'a', 'a', 'e', 'o', 'e', 'i', 'o', 'e', 'e', 'e', 'e', 'o', 'u', 'i', 'a', 'u', 'i', 'o', 'e', 'u', 'o', 'o', 'e', 'e', 'a', 'e', 'i', 'a', 'a', 'a', 'o', 'e', 'i', 'i', 'o', 'a', 'i', 'o', 'o', 'e', 'e', 'a', 'a', 'o', 'a', 'i', 'e', 'i', 'e', 'a', 'i', 'e', 'e', 'i', 'o', 'o', 'a', 'i', 'o', 'i', 'u', 'e', 'i', 'e', 'i', 'o', 'i', 'o', 'o', 'i', 'e', 'a', 'a', 'o', 'e', 'o', 'e', 'o', 'o', 'u', 'a', 'o', 'a', 'i', 'a', 'u', 'a', 'e']\n"
     ]
    }
   ],
   "source": [
    "S = S.lower()\n",
    "a = 0\n",
    "B = ('a','e','i','o','u')\n",
    "C = []\n",
    "while a< len(S):\n",
    "    if S[a] in B:\n",
    "        C.append(S[a])\n",
    "    a = a+1\n",
    "print(C)"
   ]
  },
  {
   "cell_type": "markdown",
   "id": "112a25d7",
   "metadata": {},
   "source": [
    "q5 : Try to generate all the even number between 1- 1000"
   ]
  },
  {
   "cell_type": "code",
   "execution_count": 7,
   "id": "641f406e",
   "metadata": {},
   "outputs": [
    {
     "name": "stdout",
     "output_type": "stream",
     "text": [
      "[2, 4, 6, 8, 10, 12, 14, 16, 18, 20, 22, 24, 26, 28, 30, 32, 34, 36, 38, 40, 42, 44, 46, 48, 50, 52, 54, 56, 58, 60, 62, 64, 66, 68, 70, 72, 74, 76, 78, 80, 82, 84, 86, 88, 90, 92, 94, 96, 98, 100, 102, 104, 106, 108, 110, 112, 114, 116, 118, 120, 122, 124, 126, 128, 130, 132, 134, 136, 138, 140, 142, 144, 146, 148, 150, 152, 154, 156, 158, 160, 162, 164, 166, 168, 170, 172, 174, 176, 178, 180, 182, 184, 186, 188, 190, 192, 194, 196, 198, 200, 202, 204, 206, 208, 210, 212, 214, 216, 218, 220, 222, 224, 226, 228, 230, 232, 234, 236, 238, 240, 242, 244, 246, 248, 250, 252, 254, 256, 258, 260, 262, 264, 266, 268, 270, 272, 274, 276, 278, 280, 282, 284, 286, 288, 290, 292, 294, 296, 298, 300, 302, 304, 306, 308, 310, 312, 314, 316, 318, 320, 322, 324, 326, 328, 330, 332, 334, 336, 338, 340, 342, 344, 346, 348, 350, 352, 354, 356, 358, 360, 362, 364, 366, 368, 370, 372, 374, 376, 378, 380, 382, 384, 386, 388, 390, 392, 394, 396, 398, 400, 402, 404, 406, 408, 410, 412, 414, 416, 418, 420, 422, 424, 426, 428, 430, 432, 434, 436, 438, 440, 442, 444, 446, 448, 450, 452, 454, 456, 458, 460, 462, 464, 466, 468, 470, 472, 474, 476, 478, 480, 482, 484, 486, 488, 490, 492, 494, 496, 498, 500, 502, 504, 506, 508, 510, 512, 514, 516, 518, 520, 522, 524, 526, 528, 530, 532, 534, 536, 538, 540, 542, 544, 546, 548, 550, 552, 554, 556, 558, 560, 562, 564, 566, 568, 570, 572, 574, 576, 578, 580, 582, 584, 586, 588, 590, 592, 594, 596, 598, 600, 602, 604, 606, 608, 610, 612, 614, 616, 618, 620, 622, 624, 626, 628, 630, 632, 634, 636, 638, 640, 642, 644, 646, 648, 650, 652, 654, 656, 658, 660, 662, 664, 666, 668, 670, 672, 674, 676, 678, 680, 682, 684, 686, 688, 690, 692, 694, 696, 698, 700, 702, 704, 706, 708, 710, 712, 714, 716, 718, 720, 722, 724, 726, 728, 730, 732, 734, 736, 738, 740, 742, 744, 746, 748, 750, 752, 754, 756, 758, 760, 762, 764, 766, 768, 770, 772, 774, 776, 778, 780, 782, 784, 786, 788, 790, 792, 794, 796, 798, 800, 802, 804, 806, 808, 810, 812, 814, 816, 818, 820, 822, 824, 826, 828, 830, 832, 834, 836, 838, 840, 842, 844, 846, 848, 850, 852, 854, 856, 858, 860, 862, 864, 866, 868, 870, 872, 874, 876, 878, 880, 882, 884, 886, 888, 890, 892, 894, 896, 898, 900, 902, 904, 906, 908, 910, 912, 914, 916, 918, 920, 922, 924, 926, 928, 930, 932, 934, 936, 938, 940, 942, 944, 946, 948, 950, 952, 954, 956, 958, 960, 962, 964, 966, 968, 970, 972, 974, 976, 978, 980, 982, 984, 986, 988, 990, 992, 994, 996, 998, 1000]\n"
     ]
    }
   ],
   "source": [
    "a =1\n",
    "l2 = []\n",
    "while a<=1000:\n",
    "    if a%2==0:\n",
    "        l2.append(a)\n",
    "    a =a+1\n",
    "print(l2)"
   ]
  },
  {
   "cell_type": "markdown",
   "id": "8732eadb",
   "metadata": {},
   "source": [
    "q6 : Define a function for all the above problem statememnt "
   ]
  },
  {
   "cell_type": "code",
   "execution_count": 8,
   "id": "01b316db",
   "metadata": {},
   "outputs": [],
   "source": [
    "def Q1(b):\n",
    "    a = 1\n",
    "    while a<=b:\n",
    "        print('* '*a,end=' ')\n",
    "        a = a+1\n",
    "        print(\"\\n\")"
   ]
  },
  {
   "cell_type": "code",
   "execution_count": 9,
   "id": "03f7a688",
   "metadata": {},
   "outputs": [
    {
     "name": "stdout",
     "output_type": "stream",
     "text": [
      "*  \n",
      "\n",
      "* *  \n",
      "\n",
      "* * *  \n",
      "\n",
      "* * * *  \n",
      "\n",
      "* * * * *  \n",
      "\n",
      "* * * * * *  \n",
      "\n",
      "* * * * * * *  \n",
      "\n"
     ]
    }
   ],
   "source": [
    "Q1(7)"
   ]
  },
  {
   "cell_type": "code",
   "execution_count": 10,
   "id": "119169f8",
   "metadata": {},
   "outputs": [],
   "source": [
    "def Q2(RC):\n",
    "    a = 0\n",
    "    b = 0\n",
    "    c = 0\n",
    "    ASC_V = 65    \n",
    "    while a < RC:\n",
    "        b = b+1\n",
    "        c = 0\n",
    "        ASC_V = 65\n",
    "        ASC_V = ASC_V+a        \n",
    "        while c < b and ASC_V <=90:\n",
    "            CH = chr(ASC_V)\n",
    "            print(CH, end = \" \")\n",
    "            c = c+1\n",
    "            ASC_V = ASC_V + RC -c\n",
    "        print('\\n')\n",
    "        a = a+1"
   ]
  },
  {
   "cell_type": "code",
   "execution_count": 11,
   "id": "090cb023",
   "metadata": {},
   "outputs": [
    {
     "name": "stdout",
     "output_type": "stream",
     "text": [
      "A \n",
      "\n",
      "B H \n",
      "\n",
      "C I N \n",
      "\n",
      "D J O S \n",
      "\n",
      "E K P T W \n",
      "\n",
      "F L Q U X Z \n",
      "\n",
      "G M R V Y \n",
      "\n"
     ]
    }
   ],
   "source": [
    "Q2(7)"
   ]
  },
  {
   "cell_type": "code",
   "execution_count": 12,
   "id": "0f4b07a7",
   "metadata": {},
   "outputs": [],
   "source": [
    "def Q3(L,H):\n",
    "    L1 = []\n",
    "    a = L\n",
    "    while a>=L and a<=H:\n",
    "        if a%3==0:\n",
    "            L1.append(a)\n",
    "        a = a+1\n",
    "    return L1"
   ]
  },
  {
   "cell_type": "code",
   "execution_count": 13,
   "id": "18754e0a",
   "metadata": {},
   "outputs": [
    {
     "data": {
      "text/plain": [
       "[42,\n",
       " 45,\n",
       " 48,\n",
       " 51,\n",
       " 54,\n",
       " 57,\n",
       " 60,\n",
       " 63,\n",
       " 66,\n",
       " 69,\n",
       " 72,\n",
       " 75,\n",
       " 78,\n",
       " 81,\n",
       " 84,\n",
       " 87,\n",
       " 90,\n",
       " 93,\n",
       " 96,\n",
       " 99,\n",
       " 102,\n",
       " 105,\n",
       " 108,\n",
       " 111,\n",
       " 114,\n",
       " 117,\n",
       " 120,\n",
       " 123,\n",
       " 126,\n",
       " 129,\n",
       " 132,\n",
       " 135,\n",
       " 138,\n",
       " 141,\n",
       " 144,\n",
       " 147,\n",
       " 150,\n",
       " 153,\n",
       " 156,\n",
       " 159,\n",
       " 162,\n",
       " 165,\n",
       " 168,\n",
       " 171,\n",
       " 174,\n",
       " 177,\n",
       " 180,\n",
       " 183,\n",
       " 186,\n",
       " 189,\n",
       " 192,\n",
       " 195,\n",
       " 198,\n",
       " 201,\n",
       " 204,\n",
       " 207,\n",
       " 210,\n",
       " 213,\n",
       " 216,\n",
       " 219,\n",
       " 222,\n",
       " 225,\n",
       " 228,\n",
       " 231,\n",
       " 234,\n",
       " 237,\n",
       " 240,\n",
       " 243,\n",
       " 246,\n",
       " 249,\n",
       " 252,\n",
       " 255,\n",
       " 258,\n",
       " 261,\n",
       " 264,\n",
       " 267,\n",
       " 270,\n",
       " 273,\n",
       " 276,\n",
       " 279,\n",
       " 282,\n",
       " 285,\n",
       " 288,\n",
       " 291,\n",
       " 294,\n",
       " 297,\n",
       " 300,\n",
       " 303,\n",
       " 306,\n",
       " 309,\n",
       " 312,\n",
       " 315,\n",
       " 318,\n",
       " 321,\n",
       " 324,\n",
       " 327,\n",
       " 330,\n",
       " 333,\n",
       " 336,\n",
       " 339,\n",
       " 342,\n",
       " 345,\n",
       " 348,\n",
       " 351,\n",
       " 354,\n",
       " 357,\n",
       " 360,\n",
       " 363,\n",
       " 366,\n",
       " 369,\n",
       " 372,\n",
       " 375,\n",
       " 378,\n",
       " 381,\n",
       " 384,\n",
       " 387,\n",
       " 390,\n",
       " 393,\n",
       " 396,\n",
       " 399]"
      ]
     },
     "execution_count": 13,
     "metadata": {},
     "output_type": "execute_result"
    }
   ],
   "source": [
    "Q3(40,400)"
   ]
  },
  {
   "cell_type": "code",
   "execution_count": 14,
   "id": "da4bfbae",
   "metadata": {},
   "outputs": [],
   "source": [
    "def Q4(text, vow):\n",
    "    l1 = []\n",
    "    a = 0\n",
    "    text = text.lower()\n",
    "    while a < len(text):\n",
    "        if text[a] in vow:\n",
    "            l1.append(S[a])\n",
    "        a+=1\n",
    "    return l1"
   ]
  },
  {
   "cell_type": "code",
   "execution_count": 15,
   "id": "fc7d6854",
   "metadata": {},
   "outputs": [
    {
     "data": {
      "text/plain": [
       "['o',\n",
       " 'i',\n",
       " 'a',\n",
       " 'i',\n",
       " 'e',\n",
       " 'e',\n",
       " 'i',\n",
       " 'e',\n",
       " 'e',\n",
       " 'e',\n",
       " 'e',\n",
       " 'e',\n",
       " 'a',\n",
       " 'u',\n",
       " 'o',\n",
       " 'e',\n",
       " 'o',\n",
       " 'a',\n",
       " 'i',\n",
       " 'a',\n",
       " 'u',\n",
       " 'a',\n",
       " 'e',\n",
       " 'i',\n",
       " 'e',\n",
       " 'i',\n",
       " 'i',\n",
       " 'o',\n",
       " 'o',\n",
       " 'e',\n",
       " 'a',\n",
       " 'i',\n",
       " 'e',\n",
       " 'o',\n",
       " 'e',\n",
       " 'e',\n",
       " 'a',\n",
       " 'a',\n",
       " 'i',\n",
       " 'i',\n",
       " 'i',\n",
       " 'e',\n",
       " 'u',\n",
       " 'e',\n",
       " 'o',\n",
       " 'i',\n",
       " 'i',\n",
       " 'i',\n",
       " 'a',\n",
       " 'i',\n",
       " 'e',\n",
       " 'a',\n",
       " 'i',\n",
       " 'o',\n",
       " 'o',\n",
       " 'i',\n",
       " 'a',\n",
       " 'i',\n",
       " 'a',\n",
       " 'e',\n",
       " 'a',\n",
       " 'a',\n",
       " 'a',\n",
       " 'e',\n",
       " 'o',\n",
       " 'e',\n",
       " 'e',\n",
       " 'i',\n",
       " 'u',\n",
       " 'o',\n",
       " 'u',\n",
       " 'i',\n",
       " 'e',\n",
       " 'o',\n",
       " 'a',\n",
       " 'i',\n",
       " 'a',\n",
       " 'a',\n",
       " 'i',\n",
       " 'i',\n",
       " 'u',\n",
       " 'i',\n",
       " 'u',\n",
       " 'u',\n",
       " 'e',\n",
       " 'a',\n",
       " 'i',\n",
       " 'u',\n",
       " 'a',\n",
       " 'o',\n",
       " 'e',\n",
       " 'u',\n",
       " 'a',\n",
       " 'o',\n",
       " 'e',\n",
       " 'o',\n",
       " 'i',\n",
       " 'e',\n",
       " 'e',\n",
       " 'a',\n",
       " 'u',\n",
       " 'i',\n",
       " 'o',\n",
       " 'a',\n",
       " 'o',\n",
       " 'a',\n",
       " 'i',\n",
       " 'i',\n",
       " 'i',\n",
       " 'o',\n",
       " 'e',\n",
       " 'e',\n",
       " 'i',\n",
       " 'e',\n",
       " 'a',\n",
       " 'a',\n",
       " 'a',\n",
       " 'e',\n",
       " 'i',\n",
       " 'e',\n",
       " 'i',\n",
       " 'u',\n",
       " 'e',\n",
       " 'a',\n",
       " 'u',\n",
       " 'a',\n",
       " 'e',\n",
       " 'u',\n",
       " 'e',\n",
       " 'o',\n",
       " 'i',\n",
       " 'o',\n",
       " 'e',\n",
       " 'e',\n",
       " 'i',\n",
       " 'e',\n",
       " 'a',\n",
       " 'a',\n",
       " 'i',\n",
       " 'a',\n",
       " 'u',\n",
       " 'i',\n",
       " 'o',\n",
       " 'a',\n",
       " 'o',\n",
       " 'u',\n",
       " 'e',\n",
       " 'a',\n",
       " 'o',\n",
       " 'i',\n",
       " 'o',\n",
       " 'o',\n",
       " 'i',\n",
       " 'e',\n",
       " 'a',\n",
       " 'e',\n",
       " 'a',\n",
       " 'a',\n",
       " 'u',\n",
       " 'e',\n",
       " 'o',\n",
       " 'o',\n",
       " 'e',\n",
       " 'a',\n",
       " 'o',\n",
       " 'a',\n",
       " 'i',\n",
       " 'a',\n",
       " 'u',\n",
       " 'a',\n",
       " 'e',\n",
       " 'a',\n",
       " 'i',\n",
       " 'e',\n",
       " 'e',\n",
       " 'a',\n",
       " 'e',\n",
       " 'i',\n",
       " 'i',\n",
       " 'a',\n",
       " 'o',\n",
       " 'o',\n",
       " 'a',\n",
       " 'e',\n",
       " 'e',\n",
       " 'a',\n",
       " 'e',\n",
       " 'i',\n",
       " 'a',\n",
       " 'i',\n",
       " 'o',\n",
       " 'u',\n",
       " 'e',\n",
       " 'e',\n",
       " 'e',\n",
       " 'a',\n",
       " 'u',\n",
       " 'e',\n",
       " 'u',\n",
       " 'a',\n",
       " 'i',\n",
       " 'o',\n",
       " 'e',\n",
       " 'e',\n",
       " 'i',\n",
       " 'o',\n",
       " 'e',\n",
       " 'e',\n",
       " 'e',\n",
       " 'i',\n",
       " 'a',\n",
       " 'a',\n",
       " 'e',\n",
       " 'o',\n",
       " 'e',\n",
       " 'i',\n",
       " 'o',\n",
       " 'e',\n",
       " 'e',\n",
       " 'e',\n",
       " 'e',\n",
       " 'o',\n",
       " 'u',\n",
       " 'i',\n",
       " 'a',\n",
       " 'u',\n",
       " 'i',\n",
       " 'o',\n",
       " 'e',\n",
       " 'u',\n",
       " 'o',\n",
       " 'o',\n",
       " 'e',\n",
       " 'e',\n",
       " 'a',\n",
       " 'e',\n",
       " 'i',\n",
       " 'a',\n",
       " 'a',\n",
       " 'a',\n",
       " 'o',\n",
       " 'e',\n",
       " 'i',\n",
       " 'i',\n",
       " 'o',\n",
       " 'a',\n",
       " 'i',\n",
       " 'o',\n",
       " 'o',\n",
       " 'e',\n",
       " 'e',\n",
       " 'a',\n",
       " 'a',\n",
       " 'o',\n",
       " 'a',\n",
       " 'i',\n",
       " 'e',\n",
       " 'i',\n",
       " 'e',\n",
       " 'a',\n",
       " 'i',\n",
       " 'e',\n",
       " 'e',\n",
       " 'i',\n",
       " 'o',\n",
       " 'o',\n",
       " 'a',\n",
       " 'i',\n",
       " 'o',\n",
       " 'i',\n",
       " 'u',\n",
       " 'e',\n",
       " 'i',\n",
       " 'e',\n",
       " 'i',\n",
       " 'o',\n",
       " 'i',\n",
       " 'o',\n",
       " 'o',\n",
       " 'i',\n",
       " 'e',\n",
       " 'a',\n",
       " 'a',\n",
       " 'o',\n",
       " 'e',\n",
       " 'o',\n",
       " 'e',\n",
       " 'o',\n",
       " 'o',\n",
       " 'u',\n",
       " 'a',\n",
       " 'o',\n",
       " 'a',\n",
       " 'i',\n",
       " 'a',\n",
       " 'u',\n",
       " 'a',\n",
       " 'e']"
      ]
     },
     "execution_count": 15,
     "metadata": {},
     "output_type": "execute_result"
    }
   ],
   "source": [
    "Q4(S,('a','e','i','o','u'))"
   ]
  },
  {
   "cell_type": "code",
   "execution_count": 16,
   "id": "12a86aad",
   "metadata": {},
   "outputs": [],
   "source": [
    "def Q6(l,h):\n",
    "    a =l\n",
    "    l2 = []\n",
    "    while a>=l and a<=h:\n",
    "        if a%2==0:\n",
    "            l2.append(a)\n",
    "        a+=1\n",
    "    return l2"
   ]
  },
  {
   "cell_type": "code",
   "execution_count": 17,
   "id": "133a08ba",
   "metadata": {},
   "outputs": [
    {
     "data": {
      "text/plain": [
       "[2,\n",
       " 4,\n",
       " 6,\n",
       " 8,\n",
       " 10,\n",
       " 12,\n",
       " 14,\n",
       " 16,\n",
       " 18,\n",
       " 20,\n",
       " 22,\n",
       " 24,\n",
       " 26,\n",
       " 28,\n",
       " 30,\n",
       " 32,\n",
       " 34,\n",
       " 36,\n",
       " 38,\n",
       " 40,\n",
       " 42,\n",
       " 44,\n",
       " 46,\n",
       " 48,\n",
       " 50,\n",
       " 52,\n",
       " 54,\n",
       " 56,\n",
       " 58,\n",
       " 60,\n",
       " 62,\n",
       " 64,\n",
       " 66,\n",
       " 68,\n",
       " 70,\n",
       " 72,\n",
       " 74,\n",
       " 76,\n",
       " 78,\n",
       " 80,\n",
       " 82,\n",
       " 84,\n",
       " 86,\n",
       " 88,\n",
       " 90,\n",
       " 92,\n",
       " 94,\n",
       " 96,\n",
       " 98,\n",
       " 100]"
      ]
     },
     "execution_count": 17,
     "metadata": {},
     "output_type": "execute_result"
    }
   ],
   "source": [
    "Q6(1,100)"
   ]
  },
  {
   "cell_type": "markdown",
   "id": "d5201a7c",
   "metadata": {},
   "source": [
    "q7 : write a code to get a time of your system"
   ]
  },
  {
   "cell_type": "code",
   "execution_count": 18,
   "id": "585f0ff5",
   "metadata": {},
   "outputs": [],
   "source": [
    "import time"
   ]
  },
  {
   "cell_type": "code",
   "execution_count": 19,
   "id": "15041c60",
   "metadata": {},
   "outputs": [
    {
     "name": "stdout",
     "output_type": "stream",
     "text": [
      "09:14:28:PM\n"
     ]
    }
   ],
   "source": [
    "current_time = time.strftime(\"%I:%M:%S:%p\", time.localtime())\n",
    "print(current_time)"
   ]
  },
  {
   "cell_type": "markdown",
   "id": "8322983f",
   "metadata": {},
   "source": [
    "q8 : Write a code to fetch date form your system "
   ]
  },
  {
   "cell_type": "code",
   "execution_count": 20,
   "id": "7466e9a3",
   "metadata": {},
   "outputs": [
    {
     "name": "stdout",
     "output_type": "stream",
     "text": [
      "2022:07:16\n"
     ]
    }
   ],
   "source": [
    "current_date = time.strftime(\"%Y:%m:%d\", time.localtime())\n",
    "print(current_date)"
   ]
  },
  {
   "cell_type": "markdown",
   "id": "6d408304",
   "metadata": {},
   "source": [
    "q9 : Write a code to send a mail to your friend "
   ]
  },
  {
   "cell_type": "code",
   "execution_count": 21,
   "id": "d390e608",
   "metadata": {},
   "outputs": [
    {
     "name": "stdout",
     "output_type": "stream",
     "text": [
      "mail sent\n"
     ]
    }
   ],
   "source": [
    "import smtplib\n",
    "me = \"raja.buildmate@gmail.com\"\n",
    "to = \"raja.profi@gmail.com\"\n",
    "cc = \"tvrajasekharreddy@gmail.com\"\n",
    "message_subject = 'Python test mail'\n",
    "message_text = \"as part of testing python is sending test mail\"\n",
    "message = \"From: %s\\r\\n\" %me + \"To: %s\\r\\n\" %to +\"CC: %s\\r\\n\" %cc + \"Subject: %s\\r\\n\" %message_subject+ \"\\r\\n\" + message_text\n",
    "toaddr = [to] + [cc]\n",
    "server = smtplib.SMTP(\"smtp.gmail.com\",587)\n",
    "server.starttls()\n",
    "server.login(\"raja.buildmate@gmail.com\",\"admrybuipdxzmloi\")\n",
    "server.sendmail(me,toaddr,message)\n",
    "print(\"mail sent\")"
   ]
  },
  {
   "cell_type": "markdown",
   "id": "a3a1f909",
   "metadata": {},
   "source": [
    "q10 : write a code to trigger alarm for you at scheduled time "
   ]
  },
  {
   "cell_type": "code",
   "execution_count": 22,
   "id": "79878450",
   "metadata": {},
   "outputs": [],
   "source": [
    "import playsound\n",
    "path_alarm = r\"C:\\Users\\Thimmapur\\Music\\alarm.mp3\"\n",
    "alarm_time = \"18:01\"\n",
    "if time.strftime(\"%H:%M\", time.localtime()) == alarm_time:\n",
    "    playsound.playsound(path_alarm)\n",
    "\n"
   ]
  },
  {
   "cell_type": "markdown",
   "id": "2030b6a8",
   "metadata": {},
   "source": [
    "q11 : write a code to check ip address of your system "
   ]
  },
  {
   "cell_type": "code",
   "execution_count": 23,
   "id": "803b2c4f",
   "metadata": {},
   "outputs": [
    {
     "name": "stdout",
     "output_type": "stream",
     "text": [
      "192.168.29.64\n",
      "DESKTOP-E3ADPP9\n"
     ]
    }
   ],
   "source": [
    "import socket\n",
    "host = socket.gethostname()\n",
    "ip = socket.gethostbyname(host)\n",
    "print(ip)\n",
    "print(host)"
   ]
  },
  {
   "cell_type": "markdown",
   "id": "c42e8cbd",
   "metadata": {},
   "source": [
    "q12 : Write a code to check a perticular installation in your system"
   ]
  },
  {
   "cell_type": "code",
   "execution_count": 24,
   "id": "e15f6a79",
   "metadata": {},
   "outputs": [
    {
     "name": "stdout",
     "output_type": "stream",
     "text": [
      "InstalledApplication(name='Anaconda3 2022.05 (Python 3.9.12 64-bit)', version='2022.05', install_date=None, install_location=None, install_source=None, modify_path=None, publisher='Anaconda, Inc.', uninstall_string='\"C:\\\\ProgramData\\\\Anaconda3\\\\Uninstall-Anaconda3.exe\"')\n",
      "InstalledApplication(name='Microsoft Azure Compute Emulator - v2.9.7', version='2.9.8999.43', install_date=datetime.date(2022, 7, 10), install_location='', install_source=WindowsPath('C:/Users/THIMMA~1/AppData/Local/Temp/{04CA054C-2F40-44B0-8610-8D51EC9444FE}'), modify_path='msiexec /i{04ca054c-2f40-44b0-8610-8d51ec9444fe} REINSTALLMODE=vamus', publisher='Microsoft Corporation', uninstall_string='msiexec /x{04ca054c-2f40-44b0-8610-8d51ec9444fe}')\n",
      "InstalledApplication(name='Microsoft Visual Studio 2010 Tools for Office Runtime (x64)', version='10.0.50903', install_date=None, install_location=WindowsPath('C:/Program Files/Common Files/Microsoft Shared/VSTO/10.0'), install_source=None, modify_path='MsiExec.exe /I {9495AEB4-AB97-39DE-8C42-806EEF75ECA7}', publisher='Microsoft Corporation', uninstall_string='C:\\\\Program Files\\\\Common Files\\\\Microsoft Shared\\\\VSTO\\\\10.0\\\\Microsoft Visual Studio 2010 Tools for Office Runtime (x64)\\\\install.exe')\n",
      "InstalledApplication(name='Notepad++ (64-bit x64)', version='8.4.2', install_date=None, install_location=None, install_source=None, modify_path=None, publisher='Notepad++ Team', uninstall_string='\"C:\\\\Program Files\\\\Notepad++\\\\uninstall.exe\"')\n",
      "InstalledApplication(name='Dell Touchpad', version='19.2.17.55', install_date=None, install_location=WindowsPath('%ProgramFiles%/Synaptics/SynTP'), install_source=None, modify_path=None, publisher='Synaptics Incorporated', uninstall_string='rundll32.exe \"C:\\\\Program Files\\\\Synaptics\\\\SynTP\\\\SynISDLL.dll\",standAloneUninstall')\n",
      "InstalledApplication(name='Update for Windows 10 for x64-based Systems (KB4480730)', version='2.55.0.0', install_date=datetime.date(2022, 1, 24), install_location='', install_source=WindowsPath('C:/Windows/SoftwareDistribution/Download/b9985b785b4eb49418a8e05a4d07a7c4/img'), modify_path='MsiExec.exe /X{0746492E-47B6-4251-940C-44462DFD74BB}', publisher='Microsoft Corporation', uninstall_string='MsiExec.exe /X{0746492E-47B6-4251-940C-44462DFD74BB}')\n",
      "InstalledApplication(name='Microsoft Web Deploy 4.0', version='10.0.5923', install_date=datetime.date(2022, 7, 10), install_location='', install_source=WindowsPath('C:/ProgramData/Microsoft/VisualStudio/Packages/Microsoft.VisualStudio.WebDeploy.Msi,version=17.2.32504.265,chip=x64'), modify_path='MsiExec.exe /I{0C85743B-48E7-4948-96D6-C3BB90246418}', publisher='Microsoft Corporation', uninstall_string='MsiExec.exe /I{0C85743B-48E7-4948-96D6-C3BB90246418}')\n",
      "InstalledApplication(name='Microsoft Visual C++ 2010  x64 Redistributable - 10.0.40219', version='10.0.40219', install_date=datetime.date(2022, 3, 3), install_location='', install_source=WindowsPath('f:/964fe2481fa87d8ee7fac69e26147f/VC_Red_x64'), modify_path='MsiExec.exe /X{1D8E6291-B0D5-35EC-8441-6616F567A0F7}', publisher='Microsoft Corporation', uninstall_string='MsiExec.exe /X{1D8E6291-B0D5-35EC-8441-6616F567A0F7}')\n",
      "InstalledApplication(name='MySQL Server 8.0', version='8.0.29', install_date=datetime.date(2022, 7, 10), install_location=WindowsPath('C:/Program Files/MySQL/MySQL Server 8.0'), install_source=WindowsPath('C:/ProgramData/MySQL/MySQL Installer for Windows/Product Cache'), modify_path='MsiExec.exe /I{2ABD2E86-C875-45CB-830F-9D3EC1AE01C6}', publisher='Oracle Corporation', uninstall_string='MsiExec.exe /I{2ABD2E86-C875-45CB-830F-9D3EC1AE01C6}')\n",
      "InstalledApplication(name='Microsoft SQL Server 2019 LocalDB ', version='15.0.4153.1', install_date=datetime.date(2022, 7, 10), install_location='', install_source=WindowsPath('C:/ProgramData/Microsoft/VisualStudio/Packages/sqllocaldb2019,version=17.0.62204.1020,chip=x64,language=en-US'), modify_path='MsiExec.exe /I{36E492B8-CB83-4DA5-A5D2-D99A8E8228A1}', publisher='Microsoft Corporation', uninstall_string='MsiExec.exe /I{36E492B8-CB83-4DA5-A5D2-D99A8E8228A1}')\n",
      "InstalledApplication(name='MySQL Router 8.0', version='8.0.29', install_date=datetime.date(2022, 7, 10), install_location=WindowsPath('C:/Program Files/MySQL/MySQL Router 8.0'), install_source=WindowsPath('C:/ProgramData/MySQL/MySQL Installer for Windows/Product Cache'), modify_path='MsiExec.exe /I{39405836-7A90-4297-A314-1ECCE184F9D3}', publisher='Oracle Corporation', uninstall_string='MsiExec.exe /I{39405836-7A90-4297-A314-1ECCE184F9D3}')\n",
      "InstalledApplication(name='MySQL Shell 8.0.29', version='8.0.29', install_date=datetime.date(2022, 7, 10), install_location=WindowsPath('C:/Program Files/MySQL/MySQL Shell 8.0'), install_source=WindowsPath('C:/ProgramData/MySQL/MySQL Installer for Windows/Product Cache'), modify_path='MsiExec.exe /X{401F296A-93D8-4D60-B82C-5BFD05255C30}', publisher='Oracle and/or its affiliates', uninstall_string='MsiExec.exe /X{401F296A-93D8-4D60-B82C-5BFD05255C30}')\n",
      "InstalledApplication(name='IIS 10.0 Express', version='10.0.06614', install_date=datetime.date(2022, 7, 10), install_location='', install_source=WindowsPath('C:/ProgramData/Microsoft/VisualStudio/Packages/Microsoft.VisualStudio.IISExpress.Msi,version=17.2.32504.265,machinearch=x64'), modify_path='MsiExec.exe /X{56070933-B0D1-493F-8C12-4F7E83CA3071}', publisher='Microsoft Corporation', uninstall_string='MsiExec.exe /X{56070933-B0D1-493F-8C12-4F7E83CA3071}')\n",
      "InstalledApplication(name='Windows PC Health Check', version='3.6.2204.08001', install_date=datetime.date(2022, 5, 21), install_location='', install_source=WindowsPath('C:/WINDOWS/SoftwareDistribution/Download/cdb6f387a193a5a713e4bc895ad13319/img'), modify_path='MsiExec.exe /X{6798C408-2636-448C-8AC6-F4E341102D27}', publisher='Microsoft Corporation', uninstall_string='MsiExec.exe /X{6798C408-2636-448C-8AC6-F4E341102D27}')\n",
      "InstalledApplication(name='Microsoft Visual Studio Installer', version='2.11.69.53063', install_date=datetime.date(2022, 7, 10), install_location=WindowsPath('\"C:/Program Files (x86)/Microsoft Visual Studio/Installer\"'), install_source=None, modify_path='\"C:\\\\Program Files (x86)\\\\Microsoft Visual Studio\\\\Installer\\\\setup.exe\"', publisher='Microsoft Corporation', uninstall_string='\"C:\\\\Program Files (x86)\\\\Microsoft Visual Studio\\\\Installer\\\\setup.exe\" /uninstall')\n",
      "InstalledApplication(name='Microsoft Update Health Tools', version='3.67.0.0', install_date=datetime.date(2022, 5, 21), install_location='', install_source=WindowsPath('C:/WINDOWS/TEMP/C45C35D3-3F97-4719-A7B7-E1D87A3EDBB9'), modify_path='MsiExec.exe /X{7B1FCD52-8F6B-4F12-A143-361EA39F5E7C}', publisher='Microsoft Corporation', uninstall_string='MsiExec.exe /X{7B1FCD52-8F6B-4F12-A143-361EA39F5E7C}')\n",
      "InstalledApplication(name='Update for Windows 10 for x64-based Systems (KB5001716)', version='4.91.0.0', install_date=datetime.date(2022, 5, 24), install_location='', install_source=WindowsPath('C:/WINDOWS/SoftwareDistribution/Download/77517a7122ab7793783659727e08dab0/img'), modify_path='MsiExec.exe /X{82BD0A1C-815F-487F-9AE7-CE73DA413CFF}', publisher='Microsoft Corporation', uninstall_string='MsiExec.exe /X{82BD0A1C-815F-487F-9AE7-CE73DA413CFF}')\n",
      "InstalledApplication(name='MySQL Connector C++ 8.0', version='8.0.29', install_date=datetime.date(2022, 7, 10), install_location=WindowsPath('C:/Program Files/MySQL/Connector C++ 8.0'), install_source=WindowsPath('C:/ProgramData/MySQL/MySQL Installer for Windows/Product Cache'), modify_path='MsiExec.exe /I{870AAD1A-5CB8-4E2B-B70D-4C2166D5CC56}', publisher='Oracle Corporation', uninstall_string='MsiExec.exe /I{870AAD1A-5CB8-4E2B-B70D-4C2166D5CC56}')\n",
      "InstalledApplication(name='Microsoft System CLR Types for SQL Server 2019 CTP2.2', version='15.0.1200.24', install_date=datetime.date(2022, 7, 10), install_location='', install_source=WindowsPath('C:/ProgramData/Microsoft/VisualStudio/Packages/sqlsysclrtypes,version=16.0.62205.5200,chip=x64,language=en-US'), modify_path='MsiExec.exe /I{8D7CE3B0-5379-46FE-9F4B-A65D9F4CC1F1}', publisher='Microsoft Corporation', uninstall_string='MsiExec.exe /I{8D7CE3B0-5379-46FE-9F4B-A65D9F4CC1F1}')\n",
      "InstalledApplication(name='Microsoft ODBC Driver 17 for SQL Server', version='17.2.0.1', install_date=datetime.date(2022, 7, 10), install_location='', install_source=WindowsPath('C:/ProgramData/Microsoft/VisualStudio/Packages/msodbcsql,version=16.0.62205.5200,chip=x64,language=en-US'), modify_path='MsiExec.exe /I{8D98AC2C-FC5C-440D-A2D3-6C9655F957D8}', publisher='Microsoft Corporation', uninstall_string='MsiExec.exe /I{8D98AC2C-FC5C-440D-A2D3-6C9655F957D8}')\n",
      "InstalledApplication(name='Microsoft Azure Authoring Tools - v2.9.7', version='2.9.8999.45', install_date=datetime.date(2022, 7, 10), install_location='', install_source=WindowsPath('C:/ProgramData/Microsoft/VisualStudio/Packages/Microsoft.Azure.AuthoringTools.Msi,version=2.9.8999.46,chip=x64'), modify_path='MsiExec.exe /I{90462BD2-DF5B-449C-A401-FCC1DC264E4E}', publisher='Microsoft Corporation', uninstall_string='MsiExec.exe /I{90462BD2-DF5B-449C-A401-FCC1DC264E4E}')\n",
      "InstalledApplication(name='MySQL Workbench 8.0 CE', version='8.0.29', install_date=datetime.date(2022, 7, 10), install_location=WindowsPath('C:/Program Files/MySQL/MySQL Workbench 8.0'), install_source=WindowsPath('C:/ProgramData/MySQL/MySQL Installer for Windows/Product Cache'), modify_path='MsiExec.exe /I{90789BBF-2DB7-4B1F-AD36-B850B683376C}', publisher='Oracle Corporation', uninstall_string='MsiExec.exe /I{90789BBF-2DB7-4B1F-AD36-B850B683376C}')\n",
      "InstalledApplication(name='Microsoft SQL Server 2016 LocalDB ', version='13.1.4001.0', install_date=datetime.date(2022, 7, 10), install_location='', install_source=WindowsPath('C:/ProgramData/Microsoft/VisualStudio/Packages/sqllocaldb,version=16.0.62205.5200,chip=x64,language=en-US'), modify_path='MsiExec.exe /I{9097BF1A-13A0-4A4A-A1F8-473E2A669863}', publisher='Microsoft Corporation', uninstall_string='MsiExec.exe /I{9097BF1A-13A0-4A4A-A1F8-473E2A669863}')\n",
      "InstalledApplication(name='VMware Workstation', version='16.2.3', install_date=datetime.date(2022, 3, 15), install_location='', install_source=WindowsPath('C:/Program Files (x86)/Common Files/VMware/InstallerCache'), modify_path='msiexec.exe /l{9D6C87F1-2E07-4B8D-99D8-D00248F62D55}', publisher='VMware, Inc.', uninstall_string=None)\n",
      "InstalledApplication(name='Microsoft .NET SDK 5.0.409 (x64) from Visual Studio', version='5.4.922.30117', install_date=datetime.date(2022, 7, 10), install_location='', install_source=WindowsPath('C:/ProgramData/Microsoft/VisualStudio/Packages/Microsoft.NetCore.SdkPlaceholder.5.0.409-servicing.22301.17,version=16.11.32602.291,chip=x64'), modify_path='MsiExec.exe /X{A0F28480-3E30-4BA7-B2D0-40A3104E4416}', publisher='Microsoft Corporation', uninstall_string='MsiExec.exe /X{A0F28480-3E30-4BA7-B2D0-40A3104E4416}')\n",
      "InstalledApplication(name='Adobe Acrobat DC (64-bit)', version='22.001.20169', install_date=datetime.date(2022, 7, 13), install_location=WindowsPath('C:/Program Files/Adobe/Acrobat DC'), install_source=WindowsPath('C:/Program Files/Common Files/Adobe/Acrobat/Setup/{AC76BA86-1033-1033-7760-BC15014EA700}'), modify_path='MsiExec.exe /I{AC76BA86-1033-1033-7760-BC15014EA700}', publisher='Adobe', uninstall_string='MsiExec.exe /I{AC76BA86-1033-1033-7760-BC15014EA700}')\n",
      "InstalledApplication(name='MySQL Connector/ODBC 8.0', version='8.0.29', install_date=datetime.date(2022, 7, 10), install_location=WindowsPath('C:/Program Files/MySQL/Connector ODBC 8.0'), install_source=WindowsPath('C:/ProgramData/MySQL/MySQL Installer for Windows/Product Cache'), modify_path='MsiExec.exe /I{C3E1B2C4-71E4-433D-973E-DD36C9E4A611}', publisher='Oracle Corporation', uninstall_string='MsiExec.exe /I{C3E1B2C4-71E4-433D-973E-DD36C9E4A611}')\n",
      "InstalledApplication(name='Microsoft Azure Libraries for .NET – v2.9', version='3.0.0127.060', install_date=datetime.date(2022, 7, 10), install_location='', install_source=WindowsPath('C:/ProgramData/Microsoft/VisualStudio/Packages/Microsoft.Azure.ClientLibs.Msi,version=3.0.127.62,chip=x64'), modify_path='MsiExec.exe /I{C5C91AA6-3E83-430E-8B7A-6B790083F28D}', publisher='Microsoft Corporation', uninstall_string='MsiExec.exe /I{C5C91AA6-3E83-430E-8B7A-6B790083F28D}')\n",
      "InstalledApplication(name='MySQL Connector Python v8.0.29', version='8.0.29', install_date=datetime.date(2022, 7, 10), install_location=WindowsPath('C:/Program Files/MySQL/Connector Python 8.0'), install_source=WindowsPath('C:/ProgramData/MySQL/MySQL Installer for Windows/Product Cache'), modify_path='MsiExec.exe /I{D985A768-CAB6-4A81-82BE-38066B2A36D3}', publisher='Oracle', uninstall_string='MsiExec.exe /I{D985A768-CAB6-4A81-82BE-38066B2A36D3}')\n",
      "InstalledApplication(name='Visual Studio Community 2019', version='16.11.16', install_date=datetime.date(2022, 7, 10), install_location=WindowsPath('C:/Program Files (x86)/Microsoft Visual Studio/2019/Community'), install_source=None, modify_path='\"C:\\\\Program Files (x86)\\\\Microsoft Visual Studio\\\\Installer\\\\setup.exe\" modify --installPath \"C:\\\\Program Files (x86)\\\\Microsoft Visual Studio\\\\2019\\\\Community\"', publisher='Microsoft Corporation', uninstall_string='\"C:\\\\Program Files (x86)\\\\Microsoft Visual Studio\\\\Installer\\\\setup.exe\" uninstall --installPath \"C:\\\\Program Files (x86)\\\\Microsoft Visual Studio\\\\2019\\\\Community\"')\n",
      "InstalledApplication(name='Google Chrome', version='103.0.5060.114', install_date=datetime.date(2022, 7, 6), install_location=WindowsPath('C:/Program Files/Google/Chrome/Application'), install_source=None, modify_path=None, publisher='Google LLC', uninstall_string='\"C:\\\\Program Files\\\\Google\\\\Chrome\\\\Application\\\\103.0.5060.114\\\\Installer\\\\setup.exe\" --uninstall --channel=stable --system-level --verbose-logging')\n",
      "InstalledApplication(name='Microsoft Azure Storage Emulator - v5.10', version='5.10.19227.2113', install_date=datetime.date(2022, 7, 10), install_location='', install_source=WindowsPath('C:/ProgramData/Microsoft/VisualStudio/Packages/Microsoft.Azure.Storage.Emulator.Msi,version=5.10.19227.2113'), modify_path='msiexec /i{41ac2282-f083-4495-8306-2d6abc7d5ca2} REINSTALLMODE=vamus', publisher='Microsoft Corporation', uninstall_string='msiexec /x{41ac2282-f083-4495-8306-2d6abc7d5ca2}')\n",
      "InstalledApplication(name='Microsoft Edge', version='103.0.1264.62', install_date=datetime.date(2022, 7, 16), install_location=WindowsPath('C:/Program Files (x86)/Microsoft/Edge/Application'), install_source=None, modify_path='\"C:\\\\Program Files (x86)\\\\Microsoft\\\\EdgeUpdate\\\\MicrosoftEdgeUpdate.exe\" /install appguid={56EB18F8-B008-4CBD-B6D2-8C97FE7E9062}&appname=Microsoft%20Edge&needsadmin=true&repairtype=windowsonlinerepair /installsource windowsupdate', publisher='Microsoft Corporation', uninstall_string='\"C:\\\\Program Files (x86)\\\\Microsoft\\\\Edge\\\\Application\\\\103.0.1264.62\\\\Installer\\\\setup.exe\" --uninstall --msedge --channel=stable --system-level --verbose-logging')\n",
      "InstalledApplication(name='Microsoft Edge Update', version='1.3.163.19', install_date=None, install_location=None, install_source=None, modify_path=None, publisher=None, uninstall_string=None)\n",
      "InstalledApplication(name='Microsoft Edge WebView2 Runtime', version='103.0.1264.62', install_date=datetime.date(2022, 7, 15), install_location=WindowsPath('C:/Program Files (x86)/Microsoft/EdgeWebView/Application'), install_source=None, modify_path='\"C:\\\\Program Files (x86)\\\\Microsoft\\\\EdgeUpdate\\\\MicrosoftEdgeUpdate.exe\" /install appguid={F3017226-FE2A-4295-8BDF-00C3A9A7E4C5}&appname=Microsoft%20Edge%20WebView&needsadmin=true&repairtype=windowsonlinerepair /installsource offline', publisher='Microsoft Corporation', uninstall_string='\"C:\\\\Program Files (x86)\\\\Microsoft\\\\EdgeWebView\\\\Application\\\\103.0.1264.62\\\\Installer\\\\setup.exe\" --uninstall --msedgewebview --system-level --verbose-logging')\n",
      "InstalledApplication(name='Microsoft Office Standard 2013', version='15.0.4569.1506', install_date=None, install_location=WindowsPath('C:/Program Files (x86)/Microsoft Office'), install_source=None, modify_path='\"C:\\\\Program Files (x86)\\\\Common Files\\\\Microsoft Shared\\\\OFFICE15\\\\Office Setup Controller\\\\setup.exe\" /modify STANDARD /dll OSETUP.DLL', publisher='Microsoft Corporation', uninstall_string='\"C:\\\\Program Files (x86)\\\\Common Files\\\\Microsoft Shared\\\\OFFICE15\\\\Office Setup Controller\\\\setup.exe\" /uninstall STANDARD /dll OSETUP.DLL')\n",
      "InstalledApplication(name='PyCharm Community Edition 2022.1.2', version='221.5787.24', install_date=None, install_location=WindowsPath('C:/Program Files/JetBrains/PyCharm Community Edition 2022.1.2'), install_source=None, modify_path=None, publisher='JetBrains s.r.o.', uninstall_string='C:\\\\Program Files\\\\JetBrains\\\\PyCharm Community Edition 2022.1.2\\\\bin\\\\Uninstall.exe')\n",
      "InstalledApplication(name='Microsoft Visual C++ 2015-2019 Redistributable (x86) - 14.28.29913', version='14.28.29913.0', install_date=None, install_location=None, install_source=None, modify_path='\"C:\\\\ProgramData\\\\Package Cache\\\\{03d1453c-7d5c-479c-afea-8482f406e036}\\\\VC_redist.x86.exe\" /modify', publisher='Microsoft Corporation', uninstall_string='\"C:\\\\ProgramData\\\\Package Cache\\\\{03d1453c-7d5c-479c-afea-8482f406e036}\\\\VC_redist.x86.exe\"  /uninstall')\n",
      "InstalledApplication(name='Microsoft Visual C++ 2013 Redistributable (x64) - 12.0.30501', version='12.0.30501.0', install_date=None, install_location=None, install_source=None, modify_path='\"C:\\\\ProgramData\\\\Package Cache\\\\{050d4fc8-5d48-4b8f-8972-47c82c46020f}\\\\vcredist_x64.exe\" /modify', publisher='Microsoft Corporation', uninstall_string='\"C:\\\\ProgramData\\\\Package Cache\\\\{050d4fc8-5d48-4b8f-8972-47c82c46020f}\\\\vcredist_x64.exe\"  /uninstall')\n",
      "InstalledApplication(name='Python Launcher', version='3.10.7686.0', install_date=datetime.date(2022, 3, 3), install_location='', install_source=WindowsPath('C:/ProgramData/Package Cache/{0CD41B07-EDF9-4B77-8C7C-CCCA1C435970}v3.10.7686.0'), modify_path='MsiExec.exe /X{0CD41B07-EDF9-4B77-8C7C-CCCA1C435970}', publisher='Python Software Foundation', uninstall_string='MsiExec.exe /X{0CD41B07-EDF9-4B77-8C7C-CCCA1C435970}')\n",
      "InstalledApplication(name='Microsoft Windows Desktop Runtime - 3.1.27 (x86)', version='3.1.27.31415', install_date=None, install_location=None, install_source=None, modify_path='\"C:\\\\ProgramData\\\\Package Cache\\\\{289f09c4-2d0f-44c0-85ec-7abcb4195d1b}\\\\windowsdesktop-runtime-3.1.27-win-x86.exe\" /modify', publisher='Microsoft Corporation', uninstall_string='\"C:\\\\ProgramData\\\\Package Cache\\\\{289f09c4-2d0f-44c0-85ec-7abcb4195d1b}\\\\windowsdesktop-runtime-3.1.27-win-x86.exe\"  /uninstall')\n",
      "InstalledApplication(name='MySQL Installer - Community', version='1.6.2.0', install_date=datetime.date(2022, 7, 10), install_location='', install_source=WindowsPath('C:/Users/Thimmapur/Downloads'), modify_path='MsiExec.exe /I{31F353FB-E090-40C9-B802-E0BBBB16792C}', publisher='Oracle Corporation', uninstall_string='MsiExec.exe /I{31F353FB-E090-40C9-B802-E0BBBB16792C}')\n",
      "InstalledApplication(name='Microsoft ASP.NET Core 6.0.7 - Shared Framework (x64)', version='6.0.7.22322', install_date=None, install_location=None, install_source=None, modify_path='\"C:\\\\ProgramData\\\\Package Cache\\\\{34f05a5b-876c-42ae-8012-07e9b20e2073}\\\\aspnetcore-runtime-6.0.7-win-x64.exe\" /modify', publisher='Microsoft Corporation', uninstall_string='\"C:\\\\ProgramData\\\\Package Cache\\\\{34f05a5b-876c-42ae-8012-07e9b20e2073}\\\\aspnetcore-runtime-6.0.7-win-x64.exe\"  /uninstall')\n",
      "InstalledApplication(name='Microsoft ASP.NET Core 3.1.27 - Shared Framework (x86)', version='3.1.27.22316', install_date=None, install_location=None, install_source=None, modify_path='\"C:\\\\ProgramData\\\\Package Cache\\\\{3bdaa74c-e0d6-4301-8bae-4edd6091c2e5}\\\\AspNetCoreSharedFrameworkBundle-x86.exe\" /modify', publisher='Microsoft Corporation', uninstall_string='\"C:\\\\ProgramData\\\\Package Cache\\\\{3bdaa74c-e0d6-4301-8bae-4edd6091c2e5}\\\\AspNetCoreSharedFrameworkBundle-x86.exe\"  /uninstall')\n",
      "InstalledApplication(name='MySQL Connector J', version='8.0.29', install_date=datetime.date(2022, 7, 10), install_location=WindowsPath('C:/Program Files (x86)/MySQL/Connector J 8.0'), install_source=WindowsPath('C:/ProgramData/MySQL/MySQL Installer for Windows/Product Cache'), modify_path='MsiExec.exe /I{3F18612C-8529-4888-9D68-D6D20AD971CB}', publisher='Oracle Corporation', uninstall_string='MsiExec.exe /I{3F18612C-8529-4888-9D68-D6D20AD971CB}')\n",
      "InstalledApplication(name='Microsoft Windows Desktop Runtime - 6.0.7 (x86)', version='6.0.7.31422', install_date=None, install_location=None, install_source=None, modify_path='\"C:\\\\ProgramData\\\\Package Cache\\\\{46c3b0b1-e7f1-431c-967b-278c9a0107d2}\\\\windowsdesktop-runtime-6.0.7-win-x86.exe\" /modify', publisher='Microsoft Corporation', uninstall_string='\"C:\\\\ProgramData\\\\Package Cache\\\\{46c3b0b1-e7f1-431c-967b-278c9a0107d2}\\\\windowsdesktop-runtime-6.0.7-win-x86.exe\"  /uninstall')\n",
      "InstalledApplication(name='Microsoft .NET Core SDK 3.1.421 (x64)', version='3.1.421.16055', install_date=None, install_location=None, install_source=None, modify_path='\"C:\\\\ProgramData\\\\Package Cache\\\\{64a656f7-7307-41c3-83c1-7f05360d4709}\\\\dotnet-sdk-3.1.421-win-x64.exe\" /modify', publisher='Microsoft Corporation', uninstall_string='\"C:\\\\ProgramData\\\\Package Cache\\\\{64a656f7-7307-41c3-83c1-7f05360d4709}\\\\dotnet-sdk-3.1.421-win-x64.exe\"  /uninstall')\n",
      "InstalledApplication(name='Microsoft System CLR Types for SQL Server 2019 CTP2.2', version='15.0.1200.24', install_date=datetime.date(2022, 7, 10), install_location='', install_source=WindowsPath('C:/ProgramData/Microsoft/VisualStudio/Packages/sqlsysclrtypes,version=16.0.62205.5200,chip=x86,language=en-US'), modify_path='MsiExec.exe /I{725CC962-98BD-42C7-87D8-51C680FB1779}', publisher='Microsoft Corporation', uninstall_string='MsiExec.exe /I{725CC962-98BD-42C7-87D8-51C680FB1779}')\n",
      "InstalledApplication(name='MySQL Documents 8.0', version='8.0.29', install_date=datetime.date(2022, 7, 10), install_location=WindowsPath('C:/Program Files (x86)/MySQL/MySQL Documentation 8.0'), install_source=WindowsPath('C:/ProgramData/MySQL/MySQL Installer for Windows/Product Cache'), modify_path='MsiExec.exe /I{79512FBB-08B5-497A-86DD-3772094EE4BB}', publisher='Oracle Corporation', uninstall_string='MsiExec.exe /I{79512FBB-08B5-497A-86DD-3772094EE4BB}')\n",
      "InstalledApplication(name='MySQL Examples and Samples 8.0', version='8.0.29', install_date=datetime.date(2022, 7, 10), install_location=WindowsPath('C:/Program Files (x86)/MySQL/Samples and Examples 8.0'), install_source=WindowsPath('C:/ProgramData/MySQL/MySQL Installer for Windows/Product Cache'), modify_path='MsiExec.exe /I{7A7D3F80-C0E0-4BD0-819F-6C96CCA43664}', publisher='Oracle Corporation', uninstall_string='MsiExec.exe /I{7A7D3F80-C0E0-4BD0-819F-6C96CCA43664}')\n",
      "InstalledApplication(name='Microsoft Visual C++ 2015-2019 Redistributable (x64) - 14.28.29913', version='14.28.29913.0', install_date=None, install_location=None, install_source=None, modify_path='\"C:\\\\ProgramData\\\\Package Cache\\\\{855e31d2-9031-46e1-b06d-c9d7777deefb}\\\\VC_redist.x64.exe\" /modify', publisher='Microsoft Corporation', uninstall_string='\"C:\\\\ProgramData\\\\Package Cache\\\\{855e31d2-9031-46e1-b06d-c9d7777deefb}\\\\VC_redist.x64.exe\"  /uninstall')\n",
      "InstalledApplication(name='Microsoft Windows Desktop Runtime - 6.0.7 (x64)', version='6.0.7.31422', install_date=None, install_location=None, install_source=None, modify_path='\"C:\\\\ProgramData\\\\Package Cache\\\\{a7dab025-ec7a-4e8a-add3-6d872f1d8aca}\\\\windowsdesktop-runtime-6.0.7-win-x64.exe\" /modify', publisher='Microsoft Corporation', uninstall_string='\"C:\\\\ProgramData\\\\Package Cache\\\\{a7dab025-ec7a-4e8a-add3-6d872f1d8aca}\\\\windowsdesktop-runtime-6.0.7-win-x64.exe\"  /uninstall')\n",
      "InstalledApplication(name='Microsoft ASP.NET Core 6.0.7 - Shared Framework (x86)', version='6.0.7.22322', install_date=None, install_location=None, install_source=None, modify_path='\"C:\\\\ProgramData\\\\Package Cache\\\\{b47f5b4c-1b59-4c81-9937-c4ee0bb45e29}\\\\aspnetcore-runtime-6.0.7-win-x86.exe\" /modify', publisher='Microsoft Corporation', uninstall_string='\"C:\\\\ProgramData\\\\Package Cache\\\\{b47f5b4c-1b59-4c81-9937-c4ee0bb45e29}\\\\aspnetcore-runtime-6.0.7-win-x86.exe\"  /uninstall')\n",
      "InstalledApplication(name='MySQL Connector Net 8.0.29', version='8.0.29', install_date=datetime.date(2022, 7, 10), install_location=WindowsPath('C:/Program Files (x86)/MySQL/Connector NET 8.0'), install_source=WindowsPath('C:/ProgramData/MySQL/MySQL Installer for Windows/Product Cache'), modify_path='MsiExec.exe /I{DB1815C1-AC6F-4775-809F-4DD2A2AC1DC1}', publisher='Oracle', uninstall_string='MsiExec.exe /I{DB1815C1-AC6F-4775-809F-4DD2A2AC1DC1}')\n",
      "InstalledApplication(name='Microsoft Visual C++ 2010  x86 Redistributable - 10.0.40219', version='10.0.40219', install_date=datetime.date(2022, 3, 3), install_location='', install_source=WindowsPath('f:/964fe2481fa87d8ee7fac69e26147f/VC_Red_x86'), modify_path='MsiExec.exe /X{F0C3E5D1-1ADE-321E-8167-68EF0DE699A5}', publisher='Microsoft Corporation', uninstall_string='MsiExec.exe /X{F0C3E5D1-1ADE-321E-8167-68EF0DE699A5}')\n",
      "InstalledApplication(name='Intel(R) Processor Graphics', version='20.19.15.4835', install_date=None, install_location=WindowsPath('C:/Program Files (x86)/Intel/Intel(R) Processor Graphics'), install_source=None, modify_path=None, publisher='Intel Corporation', uninstall_string='\"C:\\\\Program Files (x86)\\\\Intel\\\\Intel(R) Processor Graphics\\\\Uninstall\\\\igxpin.exe\" -uninstall')\n",
      "InstalledApplication(name='Realtek High Definition Audio Driver', version='6.0.1.7544', install_date=None, install_location=WindowsPath('C:/Program Files/Realtek/Audio/HDA'), install_source=None, modify_path=None, publisher='Realtek Semiconductor Corp.', uninstall_string='C:\\\\Program Files\\\\Realtek\\\\Audio\\\\HDA\\\\RtlUpd64.exe -r -m -nrg2709')\n",
      "InstalledApplication(name='Microsoft Visual C++ 2013 Redistributable (x86) - 12.0.30501', version='12.0.30501.0', install_date=None, install_location=None, install_source=None, modify_path='\"C:\\\\ProgramData\\\\Package Cache\\\\{f65db027-aff3-4070-886a-0d87064aabb1}\\\\vcredist_x86.exe\" /modify', publisher='Microsoft Corporation', uninstall_string='\"C:\\\\ProgramData\\\\Package Cache\\\\{f65db027-aff3-4070-886a-0d87064aabb1}\\\\vcredist_x86.exe\"  /uninstall')\n",
      "InstalledApplication(name='MySQL for Visual Studio 1.2.10', version='1.2.10', install_date=datetime.date(2022, 7, 10), install_location=WindowsPath('C:/Program Files (x86)/MySQL/MySQL for Visual Studio 1.2'), install_source=WindowsPath('C:/ProgramData/MySQL/MySQL Installer for Windows/Product Cache'), modify_path='MsiExec.exe /I{FFB40224-64C0-4D82-ADC4-6B9434B90800}', publisher='Oracle', uninstall_string='MsiExec.exe /I{FFB40224-64C0-4D82-ADC4-6B9434B90800}')\n"
     ]
    }
   ],
   "source": [
    "import winapps\n",
    "for app in winapps.list_installed():\n",
    "    print(app)\n"
   ]
  },
  {
   "cell_type": "markdown",
   "id": "e60250e8",
   "metadata": {},
   "source": [
    "q13 : Write a code to convert any text in to voice"
   ]
  },
  {
   "cell_type": "code",
   "execution_count": 25,
   "id": "65480def",
   "metadata": {},
   "outputs": [],
   "source": [
    "from playsound import playsound\n",
    "from gtts import gTTS\n",
    "def text_to_sound(inp):\n",
    "    tts = gTTS(text)\n",
    "    tts.save(r\"C:\\Users\\Thimmapur\\Music\\test.mp3\")\n",
    "    playsound(r\"C:\\Users\\Thimmapur\\Music\\test.mp3\")\n",
    "    \n",
    "text = \"Email headers don't matter to the smtp server For CC, add them to the CC header.\"\n",
    "text_to_sound(text)"
   ]
  },
  {
   "cell_type": "markdown",
   "id": "faa609b1",
   "metadata": {},
   "source": [
    "q14 : you have to write a fun which will take string and return a len of \n",
    "it without using a inbuilt fun len"
   ]
  },
  {
   "cell_type": "code",
   "execution_count": 26,
   "id": "9df64ecc",
   "metadata": {},
   "outputs": [],
   "source": [
    "s1 = \"If you want achive goal you have to wirk hard nothing can replace your hard work\""
   ]
  },
  {
   "cell_type": "code",
   "execution_count": 27,
   "id": "154d4c2e",
   "metadata": {},
   "outputs": [],
   "source": [
    "def get_Length(In):\n",
    "    len = 0\n",
    "    for i in In:\n",
    "        len = len+1        \n",
    "    return len   "
   ]
  },
  {
   "cell_type": "code",
   "execution_count": 28,
   "id": "54940e21",
   "metadata": {},
   "outputs": [
    {
     "data": {
      "text/plain": [
       "80"
      ]
     },
     "execution_count": 28,
     "metadata": {},
     "output_type": "execute_result"
    }
   ],
   "source": [
    "get_Length(s1)"
   ]
  },
  {
   "cell_type": "markdown",
   "id": "4323a09d",
   "metadata": {},
   "source": [
    "q15 :write a fun which will be able to print an index of all premitive element which you will pass"
   ]
  },
  {
   "cell_type": "code",
   "execution_count": 29,
   "id": "60447f2b",
   "metadata": {},
   "outputs": [],
   "source": [
    "l1 = [2,3,4,5,6,\"ABCS\"]"
   ]
  },
  {
   "cell_type": "code",
   "execution_count": 30,
   "id": "fdfb2e9c",
   "metadata": {},
   "outputs": [
    {
     "name": "stdout",
     "output_type": "stream",
     "text": [
      "2 : 0\n",
      "3 : 1\n",
      "4 : 2\n",
      "5 : 3\n",
      "6 : 4\n"
     ]
    }
   ],
   "source": [
    "for i in range(len(l1)):\n",
    "    if type(l1[i])==int:\n",
    "        print(l1[i] ,\":\", i)"
   ]
  },
  {
   "cell_type": "markdown",
   "id": "257211c8",
   "metadata": {},
   "source": [
    "q16 : Write a fun which will take input as a dict and give me out as a list of all the values \n",
    "even in case of 2 level nesting it should work . "
   ]
  },
  {
   "cell_type": "code",
   "execution_count": 31,
   "id": "7ad6258b",
   "metadata": {},
   "outputs": [],
   "source": [
    "D1 = {'K1': 'V1', 'k2':'v2', (1,2,3,):{1:2,3:4,5:6,'k3':{'k4':5,'k6':7, 9:{10:20,30:40}}},'k7':'ABCD', 'k8':{'k9':'EFGH','k10':{'k11':69,'k12':456}}}"
   ]
  },
  {
   "cell_type": "code",
   "execution_count": 32,
   "id": "90a27b9a",
   "metadata": {},
   "outputs": [
    {
     "data": {
      "text/plain": [
       "{'K1': 'V1',\n",
       " 'k2': 'v2',\n",
       " (1, 2, 3): {1: 2, 3: 4, 5: 6, 'k3': {'k4': 5, 'k6': 7, 9: {10: 20, 30: 40}}},\n",
       " 'k7': 'ABCD',\n",
       " 'k8': {'k9': 'EFGH', 'k10': {'k11': 69, 'k12': 456}}}"
      ]
     },
     "execution_count": 32,
     "metadata": {},
     "output_type": "execute_result"
    }
   ],
   "source": [
    "D1"
   ]
  },
  {
   "cell_type": "code",
   "execution_count": 33,
   "id": "886b44b1",
   "metadata": {},
   "outputs": [],
   "source": [
    "def get_value(DT):\n",
    "    l2 = []\n",
    "    var1 = {}\n",
    "    var2 = {}\n",
    "    var3 = {}\n",
    "    for i in DT.values():\n",
    "        if type(i)!=dict:\n",
    "            l2.append(i)\n",
    "        elif type(i)==dict:\n",
    "            for j in i.values():\n",
    "                if type(j)!=dict:\n",
    "                    l2.append(j)\n",
    "                elif type(j)==dict:\n",
    "                    for k in j.values():\n",
    "                        if type(k)!=dict:\n",
    "                            l2.append(k)\n",
    "                        elif type(k) == dict:\n",
    "                            for o in k.values():\n",
    "                                if type(o)!= dict:\n",
    "                                    l2.append(o)\n",
    "                            \n",
    "    return l2"
   ]
  },
  {
   "cell_type": "code",
   "execution_count": 34,
   "id": "94e19d2e",
   "metadata": {},
   "outputs": [
    {
     "data": {
      "text/plain": [
       "['V1', 'v2', 2, 4, 6, 5, 7, 20, 40, 'ABCD', 'EFGH', 69, 456]"
      ]
     },
     "execution_count": 34,
     "metadata": {},
     "output_type": "execute_result"
    }
   ],
   "source": [
    "get_value(D1)"
   ]
  },
  {
   "cell_type": "markdown",
   "id": "425327a6",
   "metadata": {},
   "source": [
    "q17 : write a function whihc will take multiple list as a input and give me concatnation of all the element as \n",
    "and output"
   ]
  },
  {
   "cell_type": "code",
   "execution_count": 35,
   "id": "1f8c0a48",
   "metadata": {},
   "outputs": [],
   "source": [
    "def concad(list1, list2):\n",
    "    Total = ''\n",
    "    for i in list1:\n",
    "        Total = Total + str(i)\n",
    "    for j in list2:\n",
    "        Total = Total + str(j)\n",
    "    return Total"
   ]
  },
  {
   "cell_type": "code",
   "execution_count": 36,
   "id": "6c5a11e3",
   "metadata": {},
   "outputs": [
    {
     "data": {
      "text/plain": [
       "'i will write a sample code on  1672022'"
      ]
     },
     "execution_count": 36,
     "metadata": {},
     "output_type": "execute_result"
    }
   ],
   "source": [
    "l1 = ['i',' ','w','i','l','l',' ','w','r','i','t','e',' ']\n",
    "l2 = ['a',' ','s','a','m','p','l','e',' ','c','o','d','e',' ', 'o','n','  ', 16,7,2022]\n",
    "concad(l1,l2)"
   ]
  },
  {
   "cell_type": "markdown",
   "id": "fba4b512",
   "metadata": {},
   "source": [
    "18 : Write a function which will whould return list of all the file name from a directory . "
   ]
  },
  {
   "cell_type": "code",
   "execution_count": 37,
   "id": "a9dbc0ed",
   "metadata": {},
   "outputs": [
    {
     "data": {
      "text/plain": [
       "['$RECYCLE.BIN',\n",
       " '386SWAP.PAR',\n",
       " 'ACTIVATION',\n",
       " 'backup 21.10.2014.rar',\n",
       " 'company profile',\n",
       " 'DSM Project backup',\n",
       " 'EvMoveCF.exe',\n",
       " 'EVRSI.SYS',\n",
       " 'Fail safe projects',\n",
       " 'Interview preparation.xlsx',\n",
       " 'Jupyter_Class',\n",
       " 'kcp backup 10.11.2014.rar',\n",
       " 'License Softwares',\n",
       " 'nitro_pro9.exe',\n",
       " 'OCCL Backup',\n",
       " 'pdf files',\n",
       " 'Personal CV',\n",
       " 'profi',\n",
       " 'PROFI150915',\n",
       " 'Python Project',\n",
       " 'python Tutorial',\n",
       " 'Sai Kavitha',\n",
       " 'System Volume Information',\n",
       " 'VM']"
      ]
     },
     "execution_count": 37,
     "metadata": {},
     "output_type": "execute_result"
    }
   ],
   "source": [
    "import os\n",
    "\n",
    "def get_files(path):\n",
    "    return os.listdir(path)\n",
    "\n",
    "get_files('F:\\\\')"
   ]
  },
  {
   "cell_type": "code",
   "execution_count": 38,
   "id": "2a53bf03",
   "metadata": {},
   "outputs": [
    {
     "data": {
      "text/plain": [
       "[WindowsPath('F:/386SWAP.PAR'),\n",
       " WindowsPath('F:/backup 21.10.2014.rar'),\n",
       " WindowsPath('F:/EvMoveCF.exe'),\n",
       " WindowsPath('F:/EVRSI.SYS'),\n",
       " WindowsPath('F:/Interview preparation.xlsx'),\n",
       " WindowsPath('F:/kcp backup 10.11.2014.rar'),\n",
       " WindowsPath('F:/nitro_pro9.exe')]"
      ]
     },
     "execution_count": 38,
     "metadata": {},
     "output_type": "execute_result"
    }
   ],
   "source": [
    "import pathlib\n",
    "def get_files1(dir_path):\n",
    "    l3 = []\n",
    "    d = pathlib.Path(dir_path)\n",
    "    for path in d.iterdir():\n",
    "        if path.is_file():\n",
    "            l3.append(path)\n",
    "    return l3\n",
    "dir_ = 'F:\\\\'\n",
    "get_files1(dir_)"
   ]
  },
  {
   "cell_type": "markdown",
   "id": "c339da26",
   "metadata": {},
   "source": [
    "q19 : write a function whihc will be able to read a image file and show it to you ."
   ]
  },
  {
   "cell_type": "code",
   "execution_count": 39,
   "id": "66f20a5c",
   "metadata": {},
   "outputs": [
    {
     "name": "stdout",
     "output_type": "stream",
     "text": [
      "Image Opened\n"
     ]
    }
   ],
   "source": [
    "from PIL import Image\n",
    "im  = Image.open(r\"C:\\Users\\Thimmapur\\Downloads\\Image2.jpg\")\n",
    "im.show()\n",
    "print(\"Image Opened\")"
   ]
  },
  {
   "cell_type": "code",
   "execution_count": 40,
   "id": "15f50afa",
   "metadata": {},
   "outputs": [],
   "source": [
    "import cv2\n",
    "def read_img():\n",
    "    a = cv2.imread(r\"C:\\Users\\Thimmapur\\Downloads\\Image2.jpg\")\n",
    "    cv2.imshow('image',a)\n",
    "    cv2.waitKey(100)\n",
    "    #cv2.destroyAllWindows()\n",
    "read_img()  # someproblem with this"
   ]
  },
  {
   "cell_type": "markdown",
   "id": "a7f685b8",
   "metadata": {},
   "source": [
    "q20 : write a function by which you will be able to append two PDF files . "
   ]
  },
  {
   "cell_type": "code",
   "execution_count": null,
   "id": "86ba520e",
   "metadata": {},
   "outputs": [],
   "source": []
  },
  {
   "cell_type": "code",
   "execution_count": 41,
   "id": "e9a702f3",
   "metadata": {},
   "outputs": [],
   "source": [
    "from PyPDF2 import PdfFileMerger\n",
    "def merge_pdf(file):\n",
    "    merge = PdfFileMerger()\n",
    "    for pdf_files in file:\n",
    "        merge.append(pdf_files)\n",
    "    merge.write(r\"F:\\pdf files\\merged.pdf\") \n",
    "    merge.close()\n",
    "    \n",
    "\n",
    "path = [r\"F:\\pdf files\\pdf1-pag1.pdf\", r\"F:\\pdf files\\pdf2-pag2.pdf\"]\n",
    "merge_pdf(path)\n",
    "\n",
    "        "
   ]
  },
  {
   "cell_type": "markdown",
   "id": "11d7e0f1",
   "metadata": {},
   "source": [
    "q21 : write a function which can help you to filter only word file from a directory . "
   ]
  },
  {
   "cell_type": "code",
   "execution_count": 42,
   "id": "8d8adc7c",
   "metadata": {},
   "outputs": [],
   "source": [
    "import fnmatch"
   ]
  },
  {
   "cell_type": "code",
   "execution_count": 43,
   "id": "95395e98",
   "metadata": {},
   "outputs": [
    {
     "name": "stdout",
     "output_type": "stream",
     "text": [
      "['pdf1-pag1.docx', 'pdf2-pag2.docx', 'pdf3-pag3.docx']\n"
     ]
    }
   ],
   "source": [
    "def filter_word_files(path):\n",
    "    file = fnmatch.filter(os.listdir(path),\"*.docx\")\n",
    "    print(file)\n",
    "    \n",
    "filter_word_files(r\"F:pdf files\")"
   ]
  },
  {
   "cell_type": "markdown",
   "id": "cebf2b21",
   "metadata": {},
   "source": [
    "q22 : write a function which can read video file and play for you"
   ]
  },
  {
   "cell_type": "code",
   "execution_count": 44,
   "id": "4ffd8db9",
   "metadata": {},
   "outputs": [],
   "source": [
    "import cv2\n",
    "cap = cv2.VideoCapture(\"Flowers_Video.mp4\")\n",
    "\n",
    "if (cap.isOpened())==False:\n",
    "    print(\"Video is not opened\")\n",
    "    \n",
    "while(cap.isOpened()):\n",
    "    ret, frame = cap.read()\n",
    "    if ret == True:\n",
    "        cv2.imshow('frame',frame)\n",
    "        if cv2.waitKey(25) == ord('q'):\n",
    "            break\n",
    "    else:\n",
    "        break\n",
    "cap.release()\n",
    "cv2.destroyAllWindows()         "
   ]
  },
  {
   "cell_type": "markdown",
   "id": "a6caa424",
   "metadata": {},
   "source": [
    "q23 : write a function which will be able to shutdonw your system . "
   ]
  },
  {
   "cell_type": "code",
   "execution_count": 45,
   "id": "2615ad5c",
   "metadata": {},
   "outputs": [
    {
     "name": "stdout",
     "output_type": "stream",
     "text": [
      "do you want to shutdown?no\n"
     ]
    }
   ],
   "source": [
    "def shutdown():\n",
    "    shut = input('do you want to shutdown?')\n",
    "    if shut == 'no':\n",
    "        exit()\n",
    "    else:\n",
    "        os.system(\"shutdown /s /t 1\")\n",
    "shutdown()"
   ]
  },
  {
   "cell_type": "markdown",
   "id": "1c942960",
   "metadata": {},
   "source": [
    "q24 : Write a function which will whould return list of all the file name from a directory . "
   ]
  },
  {
   "cell_type": "code",
   "execution_count": 46,
   "id": "4afca939",
   "metadata": {},
   "outputs": [
    {
     "data": {
      "text/plain": [
       "['$RECYCLE.BIN',\n",
       " '386SWAP.PAR',\n",
       " 'ACTIVATION',\n",
       " 'backup 21.10.2014.rar',\n",
       " 'company profile',\n",
       " 'DSM Project backup',\n",
       " 'EvMoveCF.exe',\n",
       " 'EVRSI.SYS',\n",
       " 'Fail safe projects',\n",
       " 'Interview preparation.xlsx',\n",
       " 'Jupyter_Class',\n",
       " 'kcp backup 10.11.2014.rar',\n",
       " 'License Softwares',\n",
       " 'nitro_pro9.exe',\n",
       " 'OCCL Backup',\n",
       " 'pdf files',\n",
       " 'Personal CV',\n",
       " 'profi',\n",
       " 'PROFI150915',\n",
       " 'Python Project',\n",
       " 'python Tutorial',\n",
       " 'Sai Kavitha',\n",
       " 'System Volume Information',\n",
       " 'VM']"
      ]
     },
     "execution_count": 46,
     "metadata": {},
     "output_type": "execute_result"
    }
   ],
   "source": [
    "import os\n",
    "os.listdir(\"F:\\\\\")"
   ]
  },
  {
   "cell_type": "code",
   "execution_count": 47,
   "id": "7034702a",
   "metadata": {},
   "outputs": [
    {
     "name": "stdout",
     "output_type": "stream",
     "text": [
      "Mail Access granted\n"
     ]
    }
   ],
   "source": [
    "import smtplib\n",
    "server = smtplib.SMTP(\"smtp.gmail.com\", 587 )\n",
    "server.starttls()\n",
    "server.login('raja.buildmate@gmail.com','admrybuipdxzmloi')\n",
    "print(\"Mail Access granted\")"
   ]
  },
  {
   "cell_type": "code",
   "execution_count": null,
   "id": "18c3fba2",
   "metadata": {},
   "outputs": [],
   "source": []
  }
 ],
 "metadata": {
  "kernelspec": {
   "display_name": "Python 3 (ipykernel)",
   "language": "python",
   "name": "python3"
  },
  "language_info": {
   "codemirror_mode": {
    "name": "ipython",
    "version": 3
   },
   "file_extension": ".py",
   "mimetype": "text/x-python",
   "name": "python",
   "nbconvert_exporter": "python",
   "pygments_lexer": "ipython3",
   "version": "3.9.12"
  }
 },
 "nbformat": 4,
 "nbformat_minor": 5
}
