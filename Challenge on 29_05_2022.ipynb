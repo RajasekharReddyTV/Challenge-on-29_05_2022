{
 "cells": [
  {
   "cell_type": "code",
   "execution_count": 1,
   "id": "bf2d821a",
   "metadata": {},
   "outputs": [
    {
     "name": "stdout",
     "output_type": "stream",
     "text": [
      "*  \n",
      "\n",
      "* *  \n",
      "\n",
      "* * *  \n",
      "\n",
      "* * * *  \n",
      "\n",
      "* * * * *  \n",
      "\n",
      "* * * * * *  \n",
      "\n",
      "* * * * * * *  \n",
      "\n",
      "* * * * * * * *  \n",
      "\n",
      "* * * * * * * * *  \n",
      "\n"
     ]
    }
   ],
   "source": [
    "a = 1\n",
    "\n",
    "while a<=9:\n",
    "    print ('* '*a, end = ' ')\n",
    "    a+=1\n",
    "    print('\\n')\n",
    "    \n",
    "    "
   ]
  },
  {
   "cell_type": "code",
   "execution_count": 2,
   "id": "c34b6988",
   "metadata": {},
   "outputs": [
    {
     "name": "stdout",
     "output_type": "stream",
     "text": [
      "A \n",
      "\n",
      "B C \n",
      "\n",
      "D E F \n",
      "\n",
      "G H I J \n",
      "\n",
      "K L M N O \n",
      "\n",
      "P Q R S T U \n",
      "\n",
      "V W X Y Z \n",
      "\n"
     ]
    }
   ],
   "source": [
    "n = 0\n",
    "b = 0\n",
    "c = 0\n",
    "ASC_V = 65\n",
    "while b<7  :\n",
    "    c= c+1\n",
    "    n = 0\n",
    "    while n<c and ASC_V<=90 :\n",
    "        CH = chr(ASC_V)\n",
    "        print(CH, end = ' ')\n",
    "        ASC_V = ASC_V+1\n",
    "        n+=1\n",
    "    print('\\n')\n",
    "    b+=1\n",
    "    \n",
    "    "
   ]
  },
  {
   "cell_type": "code",
   "execution_count": 3,
   "id": "dc8dd969",
   "metadata": {},
   "outputs": [
    {
     "name": "stdout",
     "output_type": "stream",
     "text": [
      "A \n",
      "\n",
      "B H \n",
      "\n",
      "C I N \n",
      "\n",
      "D J O S \n",
      "\n",
      "E K P T W \n",
      "\n",
      "F L Q U X Z \n",
      "\n",
      "G M R V Y \n",
      "\n"
     ]
    }
   ],
   "source": [
    "m = 7\n",
    "n = 0\n",
    "b = 0\n",
    "c = 0\n",
    "ASC_V = 65\n",
    "while b<m  :\n",
    "    c= c+1\n",
    "    n = 0\n",
    "    ASC_V = 65\n",
    "    ASC_V = ASC_V + b\n",
    "    while n<c and ASC_V<=90 :\n",
    "        CH = chr(ASC_V)\n",
    "        print(CH, end = ' ')\n",
    "        n+=1\n",
    "        ASC_V = ASC_V+m-n\n",
    "        \n",
    "    print('\\n')\n",
    "    b+=1"
   ]
  },
  {
   "cell_type": "code",
   "execution_count": 4,
   "id": "da3b3429",
   "metadata": {},
   "outputs": [
    {
     "name": "stdout",
     "output_type": "stream",
     "text": [
      "A \n",
      "\n",
      "B B \n",
      "\n",
      "C C C \n",
      "\n",
      "D D D D \n",
      "\n",
      "E E E E E \n",
      "\n",
      "F F F F F F \n",
      "\n",
      "G G G G G G G \n",
      "\n"
     ]
    }
   ],
   "source": [
    "n = 0\n",
    "b = 0\n",
    "c = 0\n",
    "ASC_V = 65\n",
    "while b<m  :\n",
    "    c= c+1\n",
    "    n = 0\n",
    "    ASC_V = 65\n",
    "    ASC_V = ASC_V + b\n",
    "    while n<c and ASC_V<=90 :\n",
    "        CH = chr(ASC_V)\n",
    "        print(CH, end = ' ')\n",
    "        n+=1\n",
    "        \n",
    "        \n",
    "    print('\\n')\n",
    "    b+=1"
   ]
  },
  {
   "cell_type": "code",
   "execution_count": 5,
   "id": "04775f24",
   "metadata": {},
   "outputs": [
    {
     "name": "stdout",
     "output_type": "stream",
     "text": [
      "[42, 45, 48, 51, 54, 57, 60, 63, 66, 69, 72, 75, 78, 81, 84, 87, 90, 93, 96, 99, 102, 105, 108, 111, 114, 117, 120, 123, 126, 129, 132, 135, 138, 141, 144, 147, 150, 153, 156, 159, 162, 165, 168, 171, 174, 177, 180, 183, 186, 189, 192, 195, 198, 201, 204, 207, 210, 213, 216, 219, 222, 225, 228, 231, 234, 237, 240, 243, 246, 249, 252, 255, 258, 261, 264, 267, 270, 273, 276, 279, 282, 285, 288, 291, 294, 297, 300, 303, 306, 309, 312, 315, 318, 321, 324, 327, 330, 333, 336, 339, 342, 345, 348, 351, 354, 357, 360, 363, 366, 369, 372, 375, 378, 381, 384, 387, 390, 393, 396, 399]\n"
     ]
    }
   ],
   "source": [
    "A = 40\n",
    "l1 = []\n",
    "while A>=40 and A<=400:\n",
    "    if A%3==0:\n",
    "        l1.append(A)\n",
    "        \n",
    "    A = A+1\n",
    "print(l1)\n",
    "   \n",
    "    \n",
    "    \n",
    "\n"
   ]
  },
  {
   "cell_type": "code",
   "execution_count": 6,
   "id": "1a159a18",
   "metadata": {},
   "outputs": [],
   "source": [
    "S =  \"\"\"Python Is a High-level, interpreted, general-purpose programming language. Its design philosophy emphasizes code readability with the use of significant indentation.[32]\n",
    "\n",
    "Python is dynamically-typed and garbage-collected. It supports multiple programming paradigms, including structured (particularly procedural), object-oriented and functional programming. It is often described as a \"batteries included\" language due to its comprehensive standard library.[33][34]\n",
    "\n",
    "Guido van Rossum began working on Python in the late 1980s as a successor to the ABC programming language and first released it in 1991 as Python 0.9.0.[35] Python 2.0 was released in 2000 and introduced new features such as list comprehensions, cycle-detecting garbage collection, reference counting, and Unicode support. Python 3.0, released in 2008, was a major revision that is not completely backward-compatible with earlier versions. Python 2 was discontinued with version 2.7.18 in 2020.[36]\n",
    "\n",
    "Python consistently ranks as one of the most popular programming languagesc\"\"\""
   ]
  },
  {
   "cell_type": "code",
   "execution_count": 7,
   "id": "d6b257c6",
   "metadata": {},
   "outputs": [],
   "source": [
    "S = S.lower()"
   ]
  },
  {
   "cell_type": "code",
   "execution_count": 8,
   "id": "b028e722",
   "metadata": {},
   "outputs": [
    {
     "data": {
      "text/plain": [
       "'python is a high-level, interpreted, general-purpose programming language. its design philosophy emphasizes code readability with the use of significant indentation.[32]\\n\\npython is dynamically-typed and garbage-collected. it supports multiple programming paradigms, including structured (particularly procedural), object-oriented and functional programming. it is often described as a \"batteries included\" language due to its comprehensive standard library.[33][34]\\n\\nguido van rossum began working on python in the late 1980s as a successor to the abc programming language and first released it in 1991 as python 0.9.0.[35] python 2.0 was released in 2000 and introduced new features such as list comprehensions, cycle-detecting garbage collection, reference counting, and unicode support. python 3.0, released in 2008, was a major revision that is not completely backward-compatible with earlier versions. python 2 was discontinued with version 2.7.18 in 2020.[36]\\n\\npython consistently ranks as one of the most popular programming languagesc'"
      ]
     },
     "execution_count": 8,
     "metadata": {},
     "output_type": "execute_result"
    }
   ],
   "source": [
    "S"
   ]
  },
  {
   "cell_type": "code",
   "execution_count": 9,
   "id": "c9a3ecbf",
   "metadata": {},
   "outputs": [
    {
     "name": "stdout",
     "output_type": "stream",
     "text": [
      "['o', 'i', 'a', 'i', 'e', 'e', 'i', 'e', 'e', 'e', 'e', 'e', 'a', 'u', 'o', 'e', 'o', 'a', 'i', 'a', 'u', 'a', 'e', 'i', 'e', 'i', 'i', 'o', 'o', 'e', 'a', 'i', 'e', 'o', 'e', 'e', 'a', 'a', 'i', 'i', 'i', 'e', 'u', 'e', 'o', 'i', 'i', 'i', 'a', 'i', 'e', 'a', 'i', 'o', 'o', 'i', 'a', 'i', 'a', 'e', 'a', 'a', 'a', 'e', 'o', 'e', 'e', 'i', 'u', 'o', 'u', 'i', 'e', 'o', 'a', 'i', 'a', 'a', 'i', 'i', 'u', 'i', 'u', 'u', 'e', 'a', 'i', 'u', 'a', 'o', 'e', 'u', 'a', 'o', 'e', 'o', 'i', 'e', 'e', 'a', 'u', 'i', 'o', 'a', 'o', 'a', 'i', 'i', 'i', 'o', 'e', 'e', 'i', 'e', 'a', 'a', 'a', 'e', 'i', 'e', 'i', 'u', 'e', 'a', 'u', 'a', 'e', 'u', 'e', 'o', 'i', 'o', 'e', 'e', 'i', 'e', 'a', 'a', 'i', 'a', 'u', 'i', 'o', 'a', 'o', 'u', 'e', 'a', 'o', 'i', 'o', 'o', 'i', 'e', 'a', 'e', 'a', 'a', 'u', 'e', 'o', 'o', 'e', 'a', 'o', 'a', 'i', 'a', 'u', 'a', 'e', 'a', 'i', 'e', 'e', 'a', 'e', 'i', 'i', 'a', 'o', 'o', 'a', 'e', 'e', 'a', 'e', 'i', 'a', 'i', 'o', 'u', 'e', 'e', 'e', 'a', 'u', 'e', 'u', 'a', 'i', 'o', 'e', 'e', 'i', 'o', 'e', 'e', 'e', 'i', 'a', 'a', 'e', 'o', 'e', 'i', 'o', 'e', 'e', 'e', 'e', 'o', 'u', 'i', 'a', 'u', 'i', 'o', 'e', 'u', 'o', 'o', 'e', 'e', 'a', 'e', 'i', 'a', 'a', 'a', 'o', 'e', 'i', 'i', 'o', 'a', 'i', 'o', 'o', 'e', 'e', 'a', 'a', 'o', 'a', 'i', 'e', 'i', 'e', 'a', 'i', 'e', 'e', 'i', 'o', 'o', 'a', 'i', 'o', 'i', 'u', 'e', 'i', 'e', 'i', 'o', 'i', 'o', 'o', 'i', 'e', 'a', 'a', 'o', 'e', 'o', 'e', 'o', 'o', 'u', 'a', 'o', 'a', 'i', 'a', 'u', 'a', 'e']\n"
     ]
    }
   ],
   "source": [
    "a = 0\n",
    "B = ('a','e','i','o','u')\n",
    "C = []\n",
    "while a< len(S):\n",
    "    if S[a] in B:\n",
    "        C.append(S[a])\n",
    "    a = a+1\n",
    "print(C)"
   ]
  },
  {
   "cell_type": "code",
   "execution_count": 10,
   "id": "176596ec",
   "metadata": {},
   "outputs": [
    {
     "name": "stdout",
     "output_type": "stream",
     "text": [
      "[2, 4, 6, 8, 10, 12, 14, 16, 18, 20, 22, 24, 26, 28, 30, 32, 34, 36, 38, 40, 42, 44, 46, 48, 50, 52, 54, 56, 58, 60, 62, 64, 66, 68, 70, 72, 74, 76, 78, 80, 82, 84, 86, 88, 90, 92, 94, 96, 98, 100, 102, 104, 106, 108, 110, 112, 114, 116, 118, 120, 122, 124, 126, 128, 130, 132, 134, 136, 138, 140, 142, 144, 146, 148, 150, 152, 154, 156, 158, 160, 162, 164, 166, 168, 170, 172, 174, 176, 178, 180, 182, 184, 186, 188, 190, 192, 194, 196, 198, 200, 202, 204, 206, 208, 210, 212, 214, 216, 218, 220, 222, 224, 226, 228, 230, 232, 234, 236, 238, 240, 242, 244, 246, 248, 250, 252, 254, 256, 258, 260, 262, 264, 266, 268, 270, 272, 274, 276, 278, 280, 282, 284, 286, 288, 290, 292, 294, 296, 298, 300, 302, 304, 306, 308, 310, 312, 314, 316, 318, 320, 322, 324, 326, 328, 330, 332, 334, 336, 338, 340, 342, 344, 346, 348, 350, 352, 354, 356, 358, 360, 362, 364, 366, 368, 370, 372, 374, 376, 378, 380, 382, 384, 386, 388, 390, 392, 394, 396, 398, 400, 402, 404, 406, 408, 410, 412, 414, 416, 418, 420, 422, 424, 426, 428, 430, 432, 434, 436, 438, 440, 442, 444, 446, 448, 450, 452, 454, 456, 458, 460, 462, 464, 466, 468, 470, 472, 474, 476, 478, 480, 482, 484, 486, 488, 490, 492, 494, 496, 498, 500, 502, 504, 506, 508, 510, 512, 514, 516, 518, 520, 522, 524, 526, 528, 530, 532, 534, 536, 538, 540, 542, 544, 546, 548, 550, 552, 554, 556, 558, 560, 562, 564, 566, 568, 570, 572, 574, 576, 578, 580, 582, 584, 586, 588, 590, 592, 594, 596, 598, 600, 602, 604, 606, 608, 610, 612, 614, 616, 618, 620, 622, 624, 626, 628, 630, 632, 634, 636, 638, 640, 642, 644, 646, 648, 650, 652, 654, 656, 658, 660, 662, 664, 666, 668, 670, 672, 674, 676, 678, 680, 682, 684, 686, 688, 690, 692, 694, 696, 698, 700, 702, 704, 706, 708, 710, 712, 714, 716, 718, 720, 722, 724, 726, 728, 730, 732, 734, 736, 738, 740, 742, 744, 746, 748, 750, 752, 754, 756, 758, 760, 762, 764, 766, 768, 770, 772, 774, 776, 778, 780, 782, 784, 786, 788, 790, 792, 794, 796, 798, 800, 802, 804, 806, 808, 810, 812, 814, 816, 818, 820, 822, 824, 826, 828, 830, 832, 834, 836, 838, 840, 842, 844, 846, 848, 850, 852, 854, 856, 858, 860, 862, 864, 866, 868, 870, 872, 874, 876, 878, 880, 882, 884, 886, 888, 890, 892, 894, 896, 898, 900, 902, 904, 906, 908, 910, 912, 914, 916, 918, 920, 922, 924, 926, 928, 930, 932, 934, 936, 938, 940, 942, 944, 946, 948, 950, 952, 954, 956, 958, 960, 962, 964, 966, 968, 970, 972, 974, 976, 978, 980, 982, 984, 986, 988, 990, 992, 994, 996, 998, 1000]\n"
     ]
    }
   ],
   "source": [
    "a =1\n",
    "l2 = []\n",
    "while a<=1000:\n",
    "    if a%2==0:\n",
    "        l2.append(a)\n",
    "    a =a+1\n",
    "print(l2)\n",
    "        "
   ]
  },
  {
   "cell_type": "code",
   "execution_count": 11,
   "id": "450d9b2b",
   "metadata": {},
   "outputs": [],
   "source": [
    "def Q1(b):\n",
    "    a = 1\n",
    "    while a<=b:\n",
    "        print('* '*a,end=' ')\n",
    "        a = a+1\n",
    "        print(\"\\n\")\n",
    "    "
   ]
  },
  {
   "cell_type": "code",
   "execution_count": 12,
   "id": "3ee53520",
   "metadata": {},
   "outputs": [
    {
     "name": "stdout",
     "output_type": "stream",
     "text": [
      "*  \n",
      "\n",
      "* *  \n",
      "\n",
      "* * *  \n",
      "\n",
      "* * * *  \n",
      "\n",
      "* * * * *  \n",
      "\n",
      "* * * * * *  \n",
      "\n",
      "* * * * * * *  \n",
      "\n"
     ]
    }
   ],
   "source": [
    "Q1(7)"
   ]
  },
  {
   "cell_type": "code",
   "execution_count": 13,
   "id": "a48ae83a",
   "metadata": {},
   "outputs": [],
   "source": [
    "def Q2(RC):\n",
    "    a = 0\n",
    "    b = 0\n",
    "    c = 0\n",
    "    ASC_V = 65    \n",
    "    while a < RC:\n",
    "        b = b+1\n",
    "        c = 0\n",
    "        ASC_V = 65\n",
    "        ASC_V = ASC_V+a        \n",
    "        while c < b and ASC_V <=90:\n",
    "            CH = chr(ASC_V)\n",
    "            print(CH, end = \" \")\n",
    "            c = c+1\n",
    "            ASC_V = ASC_V + RC -c\n",
    "        print('\\n')\n",
    "        a = a+1"
   ]
  },
  {
   "cell_type": "code",
   "execution_count": 14,
   "id": "906d33bf",
   "metadata": {},
   "outputs": [
    {
     "name": "stdout",
     "output_type": "stream",
     "text": [
      "A \n",
      "\n",
      "B H \n",
      "\n",
      "C I N \n",
      "\n",
      "D J O S \n",
      "\n",
      "E K P T W \n",
      "\n",
      "F L Q U X Z \n",
      "\n",
      "G M R V Y \n",
      "\n"
     ]
    }
   ],
   "source": [
    "Q2(7)"
   ]
  },
  {
   "cell_type": "code",
   "execution_count": 15,
   "id": "7936d2b8",
   "metadata": {},
   "outputs": [],
   "source": [
    "def Q3(L,H):\n",
    "    L1 = []\n",
    "    a = L\n",
    "    while a>=L and a<=H:\n",
    "        if a%3==0:\n",
    "            L1.append(a)\n",
    "        a = a+1\n",
    "    return L1"
   ]
  },
  {
   "cell_type": "code",
   "execution_count": 16,
   "id": "deb1ab84",
   "metadata": {},
   "outputs": [
    {
     "data": {
      "text/plain": [
       "[42,\n",
       " 45,\n",
       " 48,\n",
       " 51,\n",
       " 54,\n",
       " 57,\n",
       " 60,\n",
       " 63,\n",
       " 66,\n",
       " 69,\n",
       " 72,\n",
       " 75,\n",
       " 78,\n",
       " 81,\n",
       " 84,\n",
       " 87,\n",
       " 90,\n",
       " 93,\n",
       " 96,\n",
       " 99,\n",
       " 102,\n",
       " 105,\n",
       " 108,\n",
       " 111,\n",
       " 114,\n",
       " 117,\n",
       " 120,\n",
       " 123,\n",
       " 126,\n",
       " 129,\n",
       " 132,\n",
       " 135,\n",
       " 138,\n",
       " 141,\n",
       " 144,\n",
       " 147,\n",
       " 150,\n",
       " 153,\n",
       " 156,\n",
       " 159,\n",
       " 162,\n",
       " 165,\n",
       " 168,\n",
       " 171,\n",
       " 174,\n",
       " 177,\n",
       " 180,\n",
       " 183,\n",
       " 186,\n",
       " 189,\n",
       " 192,\n",
       " 195,\n",
       " 198,\n",
       " 201,\n",
       " 204,\n",
       " 207,\n",
       " 210,\n",
       " 213,\n",
       " 216,\n",
       " 219,\n",
       " 222,\n",
       " 225,\n",
       " 228,\n",
       " 231,\n",
       " 234,\n",
       " 237,\n",
       " 240,\n",
       " 243,\n",
       " 246,\n",
       " 249,\n",
       " 252,\n",
       " 255,\n",
       " 258,\n",
       " 261,\n",
       " 264,\n",
       " 267,\n",
       " 270,\n",
       " 273,\n",
       " 276,\n",
       " 279,\n",
       " 282,\n",
       " 285,\n",
       " 288,\n",
       " 291,\n",
       " 294,\n",
       " 297,\n",
       " 300,\n",
       " 303,\n",
       " 306,\n",
       " 309,\n",
       " 312,\n",
       " 315,\n",
       " 318,\n",
       " 321,\n",
       " 324,\n",
       " 327,\n",
       " 330,\n",
       " 333,\n",
       " 336,\n",
       " 339,\n",
       " 342,\n",
       " 345,\n",
       " 348,\n",
       " 351,\n",
       " 354,\n",
       " 357,\n",
       " 360,\n",
       " 363,\n",
       " 366,\n",
       " 369,\n",
       " 372,\n",
       " 375,\n",
       " 378,\n",
       " 381,\n",
       " 384,\n",
       " 387,\n",
       " 390,\n",
       " 393,\n",
       " 396,\n",
       " 399]"
      ]
     },
     "execution_count": 16,
     "metadata": {},
     "output_type": "execute_result"
    }
   ],
   "source": [
    "Q3(40,400)"
   ]
  },
  {
   "cell_type": "code",
   "execution_count": 17,
   "id": "bfb08c63",
   "metadata": {},
   "outputs": [],
   "source": [
    "def Q4(text, vow):\n",
    "    l1 = []\n",
    "    a = 0\n",
    "    text = text.lower()\n",
    "    while a < len(text):\n",
    "        if text[a] in vow:\n",
    "            l1.append(S[a])\n",
    "        a+=1\n",
    "    return l1\n",
    "        "
   ]
  },
  {
   "cell_type": "code",
   "execution_count": 18,
   "id": "1ad12066",
   "metadata": {},
   "outputs": [],
   "source": [
    "S = \"\"\"PythOn is a high-level, interpreted, general-purpose programming language. Its design philosophy emphasizes code readability with the use of significant indentation.[32]\n",
    "\n",
    "Python is dynamically-typed and garbage-collected. It supports multiple programming paradigms, including structured (particularly procedural), object-oriented and functional programming. It is often described as a \"batteries included\" language due to its comprehensive standard library.[33][34]\n",
    "\n",
    "Guido van Rossum began working on Python in the late 1980s as a successor to the ABC programming language and first released it in 1991 as Python 0.9.0.[35] Python 2.0 was released in 2000 and introduced new features such as list comprehensions, cycle-detecting garbage collection, reference counting, and Unicode support. Python 3.0, released in 2008, was a major revision that is not completely backward-compatible with earlier versions. Python 2 was discontinued with version 2.7.18 in 2020.[36]\n",
    "\n",
    "Python consistently ranks as one of the most popular programming languagesc\"\"\""
   ]
  },
  {
   "cell_type": "code",
   "execution_count": 19,
   "id": "a3114d08",
   "metadata": {},
   "outputs": [
    {
     "data": {
      "text/plain": [
       "['O',\n",
       " 'i',\n",
       " 'a',\n",
       " 'i',\n",
       " 'e',\n",
       " 'e',\n",
       " 'i',\n",
       " 'e',\n",
       " 'e',\n",
       " 'e',\n",
       " 'e',\n",
       " 'e',\n",
       " 'a',\n",
       " 'u',\n",
       " 'o',\n",
       " 'e',\n",
       " 'o',\n",
       " 'a',\n",
       " 'i',\n",
       " 'a',\n",
       " 'u',\n",
       " 'a',\n",
       " 'e',\n",
       " 'I',\n",
       " 'e',\n",
       " 'i',\n",
       " 'i',\n",
       " 'o',\n",
       " 'o',\n",
       " 'e',\n",
       " 'a',\n",
       " 'i',\n",
       " 'e',\n",
       " 'o',\n",
       " 'e',\n",
       " 'e',\n",
       " 'a',\n",
       " 'a',\n",
       " 'i',\n",
       " 'i',\n",
       " 'i',\n",
       " 'e',\n",
       " 'u',\n",
       " 'e',\n",
       " 'o',\n",
       " 'i',\n",
       " 'i',\n",
       " 'i',\n",
       " 'a',\n",
       " 'i',\n",
       " 'e',\n",
       " 'a',\n",
       " 'i',\n",
       " 'o',\n",
       " 'o',\n",
       " 'i',\n",
       " 'a',\n",
       " 'i',\n",
       " 'a',\n",
       " 'e',\n",
       " 'a',\n",
       " 'a',\n",
       " 'a',\n",
       " 'e',\n",
       " 'o',\n",
       " 'e',\n",
       " 'e',\n",
       " 'I',\n",
       " 'u',\n",
       " 'o',\n",
       " 'u',\n",
       " 'i',\n",
       " 'e',\n",
       " 'o',\n",
       " 'a',\n",
       " 'i',\n",
       " 'a',\n",
       " 'a',\n",
       " 'i',\n",
       " 'i',\n",
       " 'u',\n",
       " 'i',\n",
       " 'u',\n",
       " 'u',\n",
       " 'e',\n",
       " 'a',\n",
       " 'i',\n",
       " 'u',\n",
       " 'a',\n",
       " 'o',\n",
       " 'e',\n",
       " 'u',\n",
       " 'a',\n",
       " 'o',\n",
       " 'e',\n",
       " 'o',\n",
       " 'i',\n",
       " 'e',\n",
       " 'e',\n",
       " 'a',\n",
       " 'u',\n",
       " 'i',\n",
       " 'o',\n",
       " 'a',\n",
       " 'o',\n",
       " 'a',\n",
       " 'i',\n",
       " 'I',\n",
       " 'i',\n",
       " 'o',\n",
       " 'e',\n",
       " 'e',\n",
       " 'i',\n",
       " 'e',\n",
       " 'a',\n",
       " 'a',\n",
       " 'a',\n",
       " 'e',\n",
       " 'i',\n",
       " 'e',\n",
       " 'i',\n",
       " 'u',\n",
       " 'e',\n",
       " 'a',\n",
       " 'u',\n",
       " 'a',\n",
       " 'e',\n",
       " 'u',\n",
       " 'e',\n",
       " 'o',\n",
       " 'i',\n",
       " 'o',\n",
       " 'e',\n",
       " 'e',\n",
       " 'i',\n",
       " 'e',\n",
       " 'a',\n",
       " 'a',\n",
       " 'i',\n",
       " 'a',\n",
       " 'u',\n",
       " 'i',\n",
       " 'o',\n",
       " 'a',\n",
       " 'o',\n",
       " 'u',\n",
       " 'e',\n",
       " 'a',\n",
       " 'o',\n",
       " 'i',\n",
       " 'o',\n",
       " 'o',\n",
       " 'i',\n",
       " 'e',\n",
       " 'a',\n",
       " 'e',\n",
       " 'a',\n",
       " 'a',\n",
       " 'u',\n",
       " 'e',\n",
       " 'o',\n",
       " 'o',\n",
       " 'e',\n",
       " 'A',\n",
       " 'o',\n",
       " 'a',\n",
       " 'i',\n",
       " 'a',\n",
       " 'u',\n",
       " 'a',\n",
       " 'e',\n",
       " 'a',\n",
       " 'i',\n",
       " 'e',\n",
       " 'e',\n",
       " 'a',\n",
       " 'e',\n",
       " 'i',\n",
       " 'i',\n",
       " 'a',\n",
       " 'o',\n",
       " 'o',\n",
       " 'a',\n",
       " 'e',\n",
       " 'e',\n",
       " 'a',\n",
       " 'e',\n",
       " 'i',\n",
       " 'a',\n",
       " 'i',\n",
       " 'o',\n",
       " 'u',\n",
       " 'e',\n",
       " 'e',\n",
       " 'e',\n",
       " 'a',\n",
       " 'u',\n",
       " 'e',\n",
       " 'u',\n",
       " 'a',\n",
       " 'i',\n",
       " 'o',\n",
       " 'e',\n",
       " 'e',\n",
       " 'i',\n",
       " 'o',\n",
       " 'e',\n",
       " 'e',\n",
       " 'e',\n",
       " 'i',\n",
       " 'a',\n",
       " 'a',\n",
       " 'e',\n",
       " 'o',\n",
       " 'e',\n",
       " 'i',\n",
       " 'o',\n",
       " 'e',\n",
       " 'e',\n",
       " 'e',\n",
       " 'e',\n",
       " 'o',\n",
       " 'u',\n",
       " 'i',\n",
       " 'a',\n",
       " 'U',\n",
       " 'i',\n",
       " 'o',\n",
       " 'e',\n",
       " 'u',\n",
       " 'o',\n",
       " 'o',\n",
       " 'e',\n",
       " 'e',\n",
       " 'a',\n",
       " 'e',\n",
       " 'i',\n",
       " 'a',\n",
       " 'a',\n",
       " 'a',\n",
       " 'o',\n",
       " 'e',\n",
       " 'i',\n",
       " 'i',\n",
       " 'o',\n",
       " 'a',\n",
       " 'i',\n",
       " 'o',\n",
       " 'o',\n",
       " 'e',\n",
       " 'e',\n",
       " 'a',\n",
       " 'a',\n",
       " 'o',\n",
       " 'a',\n",
       " 'i',\n",
       " 'e',\n",
       " 'i',\n",
       " 'e',\n",
       " 'a',\n",
       " 'i',\n",
       " 'e',\n",
       " 'e',\n",
       " 'i',\n",
       " 'o',\n",
       " 'o',\n",
       " 'a',\n",
       " 'i',\n",
       " 'o',\n",
       " 'i',\n",
       " 'u',\n",
       " 'e',\n",
       " 'i',\n",
       " 'e',\n",
       " 'i',\n",
       " 'o',\n",
       " 'i',\n",
       " 'o',\n",
       " 'o',\n",
       " 'i',\n",
       " 'e',\n",
       " 'a',\n",
       " 'a',\n",
       " 'o',\n",
       " 'e',\n",
       " 'o',\n",
       " 'e',\n",
       " 'o',\n",
       " 'o',\n",
       " 'u',\n",
       " 'a',\n",
       " 'o',\n",
       " 'a',\n",
       " 'i',\n",
       " 'a',\n",
       " 'u',\n",
       " 'a',\n",
       " 'e']"
      ]
     },
     "execution_count": 19,
     "metadata": {},
     "output_type": "execute_result"
    }
   ],
   "source": [
    "Q4(S,('a','e','i','o','u'))"
   ]
  },
  {
   "cell_type": "code",
   "execution_count": 20,
   "id": "358fd08f",
   "metadata": {},
   "outputs": [],
   "source": [
    "def Q6(l,h):\n",
    "    a =l\n",
    "    l2 = []\n",
    "    while a>=l and a<=h:\n",
    "        if a%2==0:\n",
    "            l2.append(a)\n",
    "        a+=1\n",
    "    return l2\n",
    "            "
   ]
  },
  {
   "cell_type": "code",
   "execution_count": 21,
   "id": "706f5405",
   "metadata": {},
   "outputs": [
    {
     "data": {
      "text/plain": [
       "[2,\n",
       " 4,\n",
       " 6,\n",
       " 8,\n",
       " 10,\n",
       " 12,\n",
       " 14,\n",
       " 16,\n",
       " 18,\n",
       " 20,\n",
       " 22,\n",
       " 24,\n",
       " 26,\n",
       " 28,\n",
       " 30,\n",
       " 32,\n",
       " 34,\n",
       " 36,\n",
       " 38,\n",
       " 40,\n",
       " 42,\n",
       " 44,\n",
       " 46,\n",
       " 48,\n",
       " 50,\n",
       " 52,\n",
       " 54,\n",
       " 56,\n",
       " 58,\n",
       " 60,\n",
       " 62,\n",
       " 64,\n",
       " 66,\n",
       " 68,\n",
       " 70,\n",
       " 72,\n",
       " 74,\n",
       " 76,\n",
       " 78,\n",
       " 80,\n",
       " 82,\n",
       " 84,\n",
       " 86,\n",
       " 88,\n",
       " 90,\n",
       " 92,\n",
       " 94,\n",
       " 96,\n",
       " 98,\n",
       " 100]"
      ]
     },
     "execution_count": 21,
     "metadata": {},
     "output_type": "execute_result"
    }
   ],
   "source": [
    "Q6(1,100)"
   ]
  },
  {
   "cell_type": "markdown",
   "id": "46a2137c",
   "metadata": {},
   "source": [
    "q7 : write a code to get a time of your system "
   ]
  },
  {
   "cell_type": "code",
   "execution_count": 22,
   "id": "5aa0ac3f",
   "metadata": {},
   "outputs": [],
   "source": [
    "import time"
   ]
  },
  {
   "cell_type": "code",
   "execution_count": 23,
   "id": "3d57d584",
   "metadata": {},
   "outputs": [],
   "source": [
    "Current_Time = time.strftime(\"%H:%M:%S:%p\", time.localtime() )"
   ]
  },
  {
   "cell_type": "code",
   "execution_count": 24,
   "id": "e753d30b",
   "metadata": {},
   "outputs": [
    {
     "name": "stdout",
     "output_type": "stream",
     "text": [
      "20:23:27:PM\n"
     ]
    }
   ],
   "source": [
    "print(Current_Time)"
   ]
  },
  {
   "cell_type": "code",
   "execution_count": 25,
   "id": "9da914ba",
   "metadata": {},
   "outputs": [
    {
     "data": {
      "text/plain": [
       "str"
      ]
     },
     "execution_count": 25,
     "metadata": {},
     "output_type": "execute_result"
    }
   ],
   "source": [
    "type((Current_Time))"
   ]
  },
  {
   "cell_type": "code",
   "execution_count": 26,
   "id": "0a7eb2d5",
   "metadata": {},
   "outputs": [],
   "source": [
    "Current_Time1 = time.strptime(\"01:19:10:PM\",\"%H:%M:%S:%p\")"
   ]
  },
  {
   "cell_type": "code",
   "execution_count": 27,
   "id": "c189f868",
   "metadata": {},
   "outputs": [
    {
     "name": "stdout",
     "output_type": "stream",
     "text": [
      "time.struct_time(tm_year=1900, tm_mon=1, tm_mday=1, tm_hour=1, tm_min=19, tm_sec=10, tm_wday=0, tm_yday=1, tm_isdst=-1)\n"
     ]
    }
   ],
   "source": [
    "print(Current_Time1)"
   ]
  },
  {
   "cell_type": "markdown",
   "id": "da578a94",
   "metadata": {},
   "source": [
    "q8 : Write a code to fetch date form your system "
   ]
  },
  {
   "cell_type": "code",
   "execution_count": 28,
   "id": "73bd6fb9",
   "metadata": {},
   "outputs": [],
   "source": [
    "C_Date = time.strftime(\"%Y:%m:%d\",time.localtime())"
   ]
  },
  {
   "cell_type": "code",
   "execution_count": 29,
   "id": "102a85b3",
   "metadata": {},
   "outputs": [
    {
     "name": "stdout",
     "output_type": "stream",
     "text": [
      "2022:07:13\n"
     ]
    }
   ],
   "source": [
    "print(C_Date)"
   ]
  },
  {
   "cell_type": "markdown",
   "id": "76a4803a",
   "metadata": {},
   "source": [
    "Q14: you have to write a fun which will take string and return a len of \n",
    "it without using a inbuilt fun len"
   ]
  },
  {
   "cell_type": "code",
   "execution_count": 30,
   "id": "e2a17097",
   "metadata": {},
   "outputs": [],
   "source": [
    "s1 = \"If you want achive goal you have to wirk hard nothing can replace your hard work\""
   ]
  },
  {
   "cell_type": "code",
   "execution_count": 31,
   "id": "890b94b0",
   "metadata": {},
   "outputs": [],
   "source": [
    "def get_Length(In):\n",
    "    len = 0\n",
    "    for i in In:\n",
    "        len = len+1        \n",
    "    return len   \n",
    "    \n",
    "    \n",
    "    "
   ]
  },
  {
   "cell_type": "code",
   "execution_count": 32,
   "id": "bc4295cd",
   "metadata": {},
   "outputs": [
    {
     "data": {
      "text/plain": [
       "80"
      ]
     },
     "execution_count": 32,
     "metadata": {},
     "output_type": "execute_result"
    }
   ],
   "source": [
    "get_Length(s1)"
   ]
  },
  {
   "cell_type": "markdown",
   "id": "16b145d5",
   "metadata": {},
   "source": [
    "Q16 : Write a fun which will take input as a dict and give me out as a list of all the values \n",
    "even in case of 2 level nesting it should work "
   ]
  },
  {
   "cell_type": "code",
   "execution_count": 33,
   "id": "132cf66b",
   "metadata": {},
   "outputs": [],
   "source": [
    "D1 = {'K1': 'V1', 'k2':'v2', (1,2,3,):{1:2,3:4,5:6,'k3':{'k4':5,'k6':7, 9:{10:20,30:40}}},'k7':'ABCD', 'k8':{'k9':'EFGH','k10':{'k11':69,'k12':456}}}"
   ]
  },
  {
   "cell_type": "code",
   "execution_count": 34,
   "id": "5503532d",
   "metadata": {},
   "outputs": [
    {
     "data": {
      "text/plain": [
       "{'K1': 'V1',\n",
       " 'k2': 'v2',\n",
       " (1, 2, 3): {1: 2, 3: 4, 5: 6, 'k3': {'k4': 5, 'k6': 7, 9: {10: 20, 30: 40}}},\n",
       " 'k7': 'ABCD',\n",
       " 'k8': {'k9': 'EFGH', 'k10': {'k11': 69, 'k12': 456}}}"
      ]
     },
     "execution_count": 34,
     "metadata": {},
     "output_type": "execute_result"
    }
   ],
   "source": [
    "D1"
   ]
  },
  {
   "cell_type": "code",
   "execution_count": 35,
   "id": "3d8880fa",
   "metadata": {},
   "outputs": [],
   "source": [
    "def get_value(DT):\n",
    "    l1 = []\n",
    "    var1 = {}\n",
    "    var2 = {}\n",
    "    var3 = {}\n",
    "    for i in DT:\n",
    "        if type(DT[i])!=dict:\n",
    "            l1.append(DT[i])\n",
    "        elif type(DT[i]) == dict:\n",
    "            for j in DT[i]:\n",
    "                var1 = DT[i]\n",
    "                if type (var1[j])!=dict:\n",
    "                    l1.append(var1[j])\n",
    "                elif type(var1[j])==dict:\n",
    "                    for k in var1[j]:\n",
    "                        var2 = var1[j]\n",
    "                        if type (var2[k])!=dict:\n",
    "                            l1.append(var2[k])\n",
    "                        elif type(var2[k])==dict:\n",
    "                            for l in var2[k]:\n",
    "                                var3 = var2[k]\n",
    "                                l1.append(var3[l])\n",
    "                            \n",
    "    return l1\n",
    "                        \n",
    "        \n",
    "    \n",
    "    \n",
    "    "
   ]
  },
  {
   "cell_type": "code",
   "execution_count": 36,
   "id": "9f2a0e6e",
   "metadata": {},
   "outputs": [
    {
     "data": {
      "text/plain": [
       "['V1', 'v2', 2, 4, 6, 5, 7, 20, 40, 'ABCD', 'EFGH', 69, 456]"
      ]
     },
     "execution_count": 36,
     "metadata": {},
     "output_type": "execute_result"
    }
   ],
   "source": [
    "get_value(D1)"
   ]
  },
  {
   "cell_type": "markdown",
   "id": "1ff52ef0",
   "metadata": {},
   "source": [
    "q17 : write a function whihc will take multiple list as a input and give me concatnation of all the element as \n",
    "and output"
   ]
  },
  {
   "cell_type": "code",
   "execution_count": 37,
   "id": "f40e213d",
   "metadata": {},
   "outputs": [],
   "source": [
    "def concad(list1, list2):\n",
    "    Total = ''\n",
    "    for i in list1:\n",
    "        Total = Total + str(i)\n",
    "    for j in list2:\n",
    "        Total = Total + str(j)\n",
    "    return Total\n",
    "        "
   ]
  },
  {
   "cell_type": "code",
   "execution_count": 38,
   "id": "67dc3ac2",
   "metadata": {},
   "outputs": [],
   "source": [
    "l1 = ['i',' ','w','i','l','l',' ','w','r','i','t','e',' ']\n",
    "l2 = ['a',' ','s','a','m','p','l','e',' ','c','o','d','e',' ', 'o','n','  ', 12,7,2022]"
   ]
  },
  {
   "cell_type": "code",
   "execution_count": 39,
   "id": "61bb5c2e",
   "metadata": {},
   "outputs": [
    {
     "data": {
      "text/plain": [
       "'i will write a sample code on  1272022'"
      ]
     },
     "execution_count": 39,
     "metadata": {},
     "output_type": "execute_result"
    }
   ],
   "source": [
    "concad(l1,l2)"
   ]
  },
  {
   "cell_type": "markdown",
   "id": "c76784ba",
   "metadata": {},
   "source": [
    "q18 : Write a function which will whould return list of all the file name from a directory . "
   ]
  },
  {
   "cell_type": "code",
   "execution_count": 40,
   "id": "85aa9c39",
   "metadata": {},
   "outputs": [],
   "source": [
    "import os"
   ]
  },
  {
   "cell_type": "code",
   "execution_count": 41,
   "id": "17a89737",
   "metadata": {},
   "outputs": [],
   "source": [
    "def get_files(path):\n",
    "    return os.listdir(path)\n",
    "    \n",
    "    "
   ]
  },
  {
   "cell_type": "code",
   "execution_count": 42,
   "id": "07e51ab7",
   "metadata": {},
   "outputs": [
    {
     "data": {
      "text/plain": [
       "['$RECYCLE.BIN',\n",
       " '386SWAP.PAR',\n",
       " 'ACTIVATION',\n",
       " 'backup 21.10.2014.rar',\n",
       " 'company profile',\n",
       " 'DSM Project backup',\n",
       " 'EvMoveCF.exe',\n",
       " 'EVRSI.SYS',\n",
       " 'Fail safe projects',\n",
       " 'Interview preparation.xlsx',\n",
       " 'Jupyter_Class',\n",
       " 'kcp backup 10.11.2014.rar',\n",
       " 'License Softwares',\n",
       " 'nitro_pro9.exe',\n",
       " 'OCCL Backup',\n",
       " 'pdf files',\n",
       " 'profi',\n",
       " 'PROFI150915',\n",
       " 'Python Project',\n",
       " 'python Tutorial',\n",
       " 'Sai Kavitha',\n",
       " 'System Volume Information',\n",
       " 'VM']"
      ]
     },
     "execution_count": 42,
     "metadata": {},
     "output_type": "execute_result"
    }
   ],
   "source": [
    "get_files('F:\\\\')"
   ]
  },
  {
   "cell_type": "code",
   "execution_count": 43,
   "id": "ffcf4972",
   "metadata": {},
   "outputs": [],
   "source": [
    "import pathlib\n",
    "dir_ = 'F:\\\\'"
   ]
  },
  {
   "cell_type": "code",
   "execution_count": 44,
   "id": "56ce466f",
   "metadata": {},
   "outputs": [],
   "source": [
    "def get_files1(dir_path):\n",
    "    l1 = []\n",
    "    d = pathlib.Path(dir_path)\n",
    "    for path in d.iterdir():\n",
    "        if path.is_file():\n",
    "            l1.append(path)\n",
    "    return l1\n",
    "            \n"
   ]
  },
  {
   "cell_type": "code",
   "execution_count": 45,
   "id": "1dd28172",
   "metadata": {},
   "outputs": [
    {
     "data": {
      "text/plain": [
       "[WindowsPath('F:/386SWAP.PAR'),\n",
       " WindowsPath('F:/backup 21.10.2014.rar'),\n",
       " WindowsPath('F:/EvMoveCF.exe'),\n",
       " WindowsPath('F:/EVRSI.SYS'),\n",
       " WindowsPath('F:/Interview preparation.xlsx'),\n",
       " WindowsPath('F:/kcp backup 10.11.2014.rar'),\n",
       " WindowsPath('F:/nitro_pro9.exe')]"
      ]
     },
     "execution_count": 45,
     "metadata": {},
     "output_type": "execute_result"
    }
   ],
   "source": [
    "get_files1(dir_)"
   ]
  },
  {
   "cell_type": "markdown",
   "id": "b12187e5",
   "metadata": {},
   "source": [
    "q19 : write a function whihc will be able to read a image file and show it to you"
   ]
  },
  {
   "cell_type": "code",
   "execution_count": 46,
   "id": "7e7c688f",
   "metadata": {},
   "outputs": [],
   "source": [
    "from PIL import Image\n",
    "im = Image.open(r\"C:\\Users\\Thimmapur\\Downloads\\Image2.jpg\")\n",
    "im.show()"
   ]
  },
  {
   "cell_type": "markdown",
   "id": "f3c0ff22",
   "metadata": {},
   "source": [
    "q20 : write a function by which you will be able to append two PDF files . "
   ]
  },
  {
   "cell_type": "code",
   "execution_count": 47,
   "id": "be7e436a",
   "metadata": {},
   "outputs": [
    {
     "name": "stdout",
     "output_type": "stream",
     "text": [
      "Defaulting to user installation because normal site-packages is not writeable\n",
      "Requirement already satisfied: pyPDF2 in c:\\users\\thimmapur\\appdata\\roaming\\python\\python39\\site-packages (2.5.0)\n",
      "Requirement already satisfied: typing-extensions in c:\\programdata\\anaconda3\\lib\\site-packages (from pyPDF2) (4.1.1)\n",
      "Note: you may need to restart the kernel to use updated packages.\n"
     ]
    }
   ],
   "source": [
    "pip install pyPDF2"
   ]
  },
  {
   "cell_type": "code",
   "execution_count": 48,
   "id": "99a62ee2",
   "metadata": {},
   "outputs": [],
   "source": [
    "from PyPDF2 import PdfFileMerger        "
   ]
  },
  {
   "cell_type": "code",
   "execution_count": 49,
   "id": "b288dc84",
   "metadata": {},
   "outputs": [],
   "source": [
    "def merge_two_Pdf(files):\n",
    "    merge = PdfFileMerger()\n",
    "    for pdf_file in files:\n",
    "        merge.append(pdf_file)\n",
    "    merge.write(r\"F:\\pdf files\\merged.pdf\")    \n",
    "    merge.close()\n"
   ]
  },
  {
   "cell_type": "code",
   "execution_count": 50,
   "id": "a4d5ab26",
   "metadata": {},
   "outputs": [],
   "source": [
    "path = [r\"F:\\pdf files\\pdf1-pag1.pdf\", r\"F:\\pdf files\\pdf2-pag2.pdf\"]\n",
    "merge_two_Pdf(path)"
   ]
  },
  {
   "cell_type": "markdown",
   "id": "7f41819b",
   "metadata": {},
   "source": [
    "21 : write a function which can help you to filter only word file from a directory . "
   ]
  },
  {
   "cell_type": "code",
   "execution_count": 51,
   "id": "c3ae2445",
   "metadata": {},
   "outputs": [],
   "source": [
    "import fnmatch"
   ]
  },
  {
   "cell_type": "code",
   "execution_count": 52,
   "id": "6c671919",
   "metadata": {},
   "outputs": [],
   "source": [
    "def filter_Word(path):      \n",
    "    file = fnmatch.filter(os.listdir(path),\"*.docx\")           \n",
    "    print(file)     \n",
    "    "
   ]
  },
  {
   "cell_type": "code",
   "execution_count": 53,
   "id": "ac0f009f",
   "metadata": {},
   "outputs": [],
   "source": [
    "dire = r\"F:\\pdf files\""
   ]
  },
  {
   "cell_type": "code",
   "execution_count": 54,
   "id": "6a4e141f",
   "metadata": {},
   "outputs": [
    {
     "name": "stdout",
     "output_type": "stream",
     "text": [
      "['pdf1-pag1.docx', 'pdf2-pag2.docx', 'pdf3-pag3.docx']\n"
     ]
    }
   ],
   "source": [
    "filter_Word(dire)"
   ]
  },
  {
   "cell_type": "markdown",
   "id": "8a08c2a2",
   "metadata": {},
   "source": [
    "q23 : write a function which will be able to shutdonw your system . "
   ]
  },
  {
   "cell_type": "code",
   "execution_count": 57,
   "id": "e6b0de32",
   "metadata": {},
   "outputs": [],
   "source": [
    "def shutdown():\n",
    "    shut = input('do you want to shutdown?')\n",
    "    if shut == 'no':\n",
    "        exit()\n",
    "    else:\n",
    "        os.system(\"shutdown /s /t 1\")\n",
    "    \n",
    "    "
   ]
  },
  {
   "cell_type": "code",
   "execution_count": 58,
   "id": "51bf0be6",
   "metadata": {},
   "outputs": [
    {
     "name": "stdout",
     "output_type": "stream",
     "text": [
      "do you want to shutdown?no\n"
     ]
    }
   ],
   "source": [
    "shutdown()"
   ]
  }
 ],
 "metadata": {
  "kernelspec": {
   "display_name": "Python 3 (ipykernel)",
   "language": "python",
   "name": "python3"
  },
  "language_info": {
   "codemirror_mode": {
    "name": "ipython",
    "version": 3
   },
   "file_extension": ".py",
   "mimetype": "text/x-python",
   "name": "python",
   "nbconvert_exporter": "python",
   "pygments_lexer": "ipython3",
   "version": "3.9.12"
  }
 },
 "nbformat": 4,
 "nbformat_minor": 5
}
